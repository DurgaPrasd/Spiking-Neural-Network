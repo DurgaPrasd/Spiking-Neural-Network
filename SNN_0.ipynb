{
 "cells": [
  {
   "cell_type": "markdown",
   "metadata": {},
   "source": [
    "# SNN_0\n",
    "\n",
    "This code is designed to demo the use of a Spiking Neural Network to propogate spikes between neurons. At this stage there is no learning involved, it's purely about propogating spikes between LIF neurons.\n",
    "\n",
    "More biologically plausible neurons and learning will be introduced later."
   ]
  },
  {
   "cell_type": "markdown",
   "metadata": {},
   "source": [
    "### Set up the environment"
   ]
  },
  {
   "cell_type": "code",
   "execution_count": 2,
   "metadata": {
    "collapsed": true
   },
   "outputs": [],
   "source": [
    "import numpy as np\n",
    "from mnist import MNIST   \n",
    "import cv2\n",
    "import matplotlib.pyplot as plt\n",
    "%matplotlib inline"
   ]
  },
  {
   "cell_type": "code",
   "execution_count": 3,
   "metadata": {
    "collapsed": true
   },
   "outputs": [],
   "source": [
    "duration = 50        # Length of each time period (ms)"
   ]
  },
  {
   "cell_type": "markdown",
   "metadata": {},
   "source": [
    "### Utility functions"
   ]
  },
  {
   "cell_type": "code",
   "execution_count": 52,
   "metadata": {},
   "outputs": [],
   "source": [
    "def plot_neuron_behaviour(time, Vm, neuron_type, neuron_id, y_title):\n",
    "    plt.plot(time,Vm)\n",
    "    plt.title('{} @ {}'.format(neuron_type, neuron_id))\n",
    "    plt.ylabel(y_title)\n",
    "    plt.xlabel('Time (msec)')\n",
    "    plt.ylim([0,2])\n",
    "    plt.show()"
   ]
  },
  {
   "cell_type": "code",
   "execution_count": 53,
   "metadata": {
    "collapsed": true
   },
   "outputs": [],
   "source": [
    "def plot_membrane_potential(time, Vm, neuron_type = 'Leaky Integrate and Fire', neuron_id = 0):\n",
    "    plot_neuron_behaviour(time, Vm, neuron_type, neuron_id, y_title = 'Membrane potential (V)')\n",
    "\n",
    "def plot_spikes(time, Vm, neuron_type = 'Leaky Integrate and Fire', neuron_id = 0):\n",
    "    plot_neuron_behaviour(time, Vm, neuron_type, neuron_id, y_title = 'Spike (V)')"
   ]
  },
  {
   "cell_type": "markdown",
   "metadata": {},
   "source": [
    "### Create a basic neuron class\n",
    "\n",
    "Use LIF neuron for now, this can be made more complex over time.\n",
    "\n",
    "Based on http://neurdon.wpengine.com/2011/01/19/neural-modeling-with-python-part-1/"
   ]
  },
  {
   "cell_type": "code",
   "execution_count": 54,
   "metadata": {
    "collapsed": true
   },
   "outputs": [],
   "source": [
    "class Neuron():\n",
    "    def __init__(self):\n",
    "        # Simulation config (may not all be needed!!)\n",
    "        self.T        = 50          # total time to sumulate (msec)\n",
    "        self.dt       = 0.125       # simulation time step\n",
    "        #self.time     = np.arange(0, T+dt, dt) # Time array\n",
    "        self.t_rest   = 0           # initial refractory time\n",
    "        \n",
    "        #LIF Properties \n",
    "        #self.Vm       = np.zeros(len(time)) # potential (V) trace over time\n",
    "        self.Vm       = 0                # Initial potential (mV)\n",
    "        self.output   = 0                # Neuron output\n",
    "        self.t        = 0                # Neuron time step\n",
    "        self.Rm       = 1                # Resistance (kOhm)\n",
    "        self.Cm       = 10               # Capacitance (uF)\n",
    "        self.tau_m    = self.Rm * self.Cm # Time constant\n",
    "        self.tau_ref  = 4                # refractory period (ms)\n",
    "        self.Vth      = 0.75             # = 1  #spike threshold\n",
    "        self.V_spike  = 0.5              # spike delta (V)\n",
    "    \n",
    "    def spike_generator(self, input, duration):\n",
    "        time = np.arange(self.t, self.t+duration+self.dt, self.dt)\n",
    "        Vm = np.zeros(len(time)) # potential (V) trace over time\n",
    "        output = np.zeros(len(time))\n",
    "        Vm[-1] = self.Vm   # Vm[0] doesn't work due to the equation below starting with [i-1] when i=0\n",
    "        print ('Neuron.spike_generator.initial_state(input={}, duration={}, Vm={}, t={})'\n",
    "               .format(input, duration, self.Vm, self.t))\n",
    "        for i,t in enumerate(time):\n",
    "            if t > self.t_rest:\n",
    "                Vm[i] = Vm[i-1] + (-Vm[i-1] + input*self.Rm) / self.tau_m * self.dt\n",
    "                if Vm[i] >= self.Vth:\n",
    "                    #Vm[i] += self.V_spike\n",
    "                    output[i] = 1\n",
    "                    self.t_rest = t + self.tau_ref\n",
    "                    #print ('*** Neuron.spike_generator.spike=(self.t_rest={}, t={}, self.tau_ref={})'\n",
    "                    #       .format(self.t_rest, t, self.tau_ref))\n",
    "\n",
    "            # Save state\n",
    "            self.Vm = Vm[i]\n",
    "            self.output = output[i]\n",
    "            self.t += self.dt\n",
    "        print ('Neuron.spike_generator.exit_state(Vm={} at iteration i={}, time={})'.format(self.Vm, i, self.t))\n",
    "        return time, Vm, output"
   ]
  },
  {
   "cell_type": "code",
   "execution_count": 68,
   "metadata": {
    "collapsed": true
   },
   "outputs": [],
   "source": [
    "neuron = Neuron()"
   ]
  },
  {
   "cell_type": "code",
   "execution_count": 69,
   "metadata": {
    "scrolled": false
   },
   "outputs": [
    {
     "name": "stdout",
     "output_type": "stream",
     "text": [
      "Neuron.spike_generator.initial_state(input=1.5, duration=25, Vm=0, t=0)\n",
      "Neuron.spike_generator.exit_state(Vm=0.3908717624924998 at iteration i=200, time=25.125)\n",
      "Neuron.spike_generator.initial_state(input=1.5, duration=25, Vm=0.3908717624924998, t=25.125)\n",
      "Neuron.spike_generator.exit_state(Vm=0.6901410805693082 at iteration i=200, time=50.25)\n",
      "Neuron.spike_generator.initial_state(input=1.5, duration=25, Vm=0.6901410805693082, t=50.25)\n",
      "Neuron.spike_generator.exit_state(Vm=0.6901410805693082 at iteration i=200, time=75.375)\n",
      "Neuron.spike_generator.initial_state(input=1.5, duration=25, Vm=0.6901410805693082, t=75.375)\n",
      "Neuron.spike_generator.exit_state(Vm=0.19383089734325026 at iteration i=200, time=100.5)\n",
      "Neuron.spike_generator.initial_state(input=1.5, duration=25, Vm=0.19383089734325026, t=100.5)\n",
      "Neuron.spike_generator.exit_state(Vm=0.5462665521450143 at iteration i=200, time=125.625)\n"
     ]
    }
   ],
   "source": [
    "neuron_time = np.zeros(1)\n",
    "neuron_Vm = np.zeros(1)\n",
    "neuron_output = np.zeros(1)\n",
    "for time_step in range (5):\n",
    "    t, v, o = neuron.spike_generator(1.5, duration=25)\n",
    "    neuron_time = np.append(neuron_time,t)\n",
    "    neuron_Vm = np.append(neuron_Vm,v)\n",
    "    neuron_output = np.append(neuron_output, o)\n",
    "    "
   ]
  },
  {
   "cell_type": "code",
   "execution_count": 70,
   "metadata": {},
   "outputs": [
    {
     "data": {
      "image/png": "[encoded data removed]",
      "text/plain": [
       "<matplotlib.figure.Figure at 0x114acbe80>"
      ]
     },
     "metadata": {},
     "output_type": "display_data"
    },
    {
     "data": {
      "image/png": "[encoded data removed]",
      "text/plain": [
       "<matplotlib.figure.Figure at 0x114acbf98>"
      ]
     },
     "metadata": {},
     "output_type": "display_data"
    }
   ],
   "source": [
    "plot_membrane_potential(neuron_time, neuron_Vm, neuron_id = \"0\")\n",
    "plot_spikes(neuron_time, neuron_output, neuron_id = \"0\")"
   ]
  },
  {
   "cell_type": "code",
   "execution_count": null,
   "metadata": {
    "collapsed": true
   },
   "outputs": [],
   "source": []
  },
  {
   "cell_type": "code",
   "execution_count": null,
   "metadata": {
    "collapsed": true
   },
   "outputs": [],
   "source": []
  }
 ],
 "metadata": {
  "kernelspec": {
   "display_name": "Python 3",
   "language": "python",
   "name": "python3"
  },
  "language_info": {
   "codemirror_mode": {
    "name": "ipython",
    "version": 3
   },
   "file_extension": ".py",
   "mimetype": "text/x-python",
   "name": "python",
   "nbconvert_exporter": "python",
   "pygments_lexer": "ipython3",
   "version": "3.6.1"
  }
 },
 "nbformat": 4,
 "nbformat_minor": 2
}
