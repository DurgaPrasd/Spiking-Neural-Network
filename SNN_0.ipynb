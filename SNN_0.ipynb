{
 "cells": [
  {
   "cell_type": "markdown",
   "metadata": {},
   "source": [
    "# SNN_0\n",
    "\n",
    "This code is designed to demo the use of a Spiking Neural Network to propogate spikes between neurons. At this stage there is no learning involved, it's purely about propogating spikes between LIF neurons.\n",
    "\n",
    "More biologically plausible neurons and learning will be introduced later."
   ]
  },
  {
   "cell_type": "markdown",
   "metadata": {},
   "source": [
    "### Set up the environment"
   ]
  },
  {
   "cell_type": "code",
   "execution_count": 2,
   "metadata": {
    "collapsed": true
   },
   "outputs": [],
   "source": [
    "import numpy as np\n",
    "from mnist import MNIST   \n",
    "import cv2\n",
    "import matplotlib.pyplot as plt\n",
    "%matplotlib inline"
   ]
  },
  {
   "cell_type": "code",
   "execution_count": 3,
   "metadata": {
    "collapsed": true
   },
   "outputs": [],
   "source": [
    "duration = 50        # Length of each time period (ms)"
   ]
  },
  {
   "cell_type": "markdown",
   "metadata": {},
   "source": [
    "### Utility functions"
   ]
  },
  {
   "cell_type": "code",
   "execution_count": 4,
   "metadata": {
    "collapsed": true
   },
   "outputs": [],
   "source": [
    "def plot_spikes(time, Vm, neuron_id):\n",
    "    plt.plot(time,Vm)\n",
    "    plt.title('Leaky Integrate and Fire @ {}'.format(neuron_id))\n",
    "    plt.ylabel('Membrane potential (V)')\n",
    "    plt.xlabel('Time (msec)')\n",
    "    plt.ylim([0,2])\n",
    "    plt.show()"
   ]
  },
  {
   "cell_type": "code",
   "execution_count": null,
   "metadata": {
    "collapsed": true
   },
   "outputs": [],
   "source": []
  },
  {
   "cell_type": "markdown",
   "metadata": {},
   "source": [
    "### Create a basic neuron class\n",
    "\n",
    "Use LIF neuron for now, this can be made more complex over time.\n",
    "\n",
    "Based on http://neurdon.wpengine.com/2011/01/19/neural-modeling-with-python-part-1/"
   ]
  },
  {
   "cell_type": "code",
   "execution_count": 5,
   "metadata": {
    "collapsed": true
   },
   "outputs": [],
   "source": [
    "class Neuron():\n",
    "    def __init__(self):\n",
    "        # Simulation config (may not all be needed!!)\n",
    "        self.T        = 50          # total time to sumulate (msec)\n",
    "        self.dt       = 0.125       # simulation time step\n",
    "        #self.time     = np.arange(0, T+dt, dt) # Time array\n",
    "        self.t_rest   = 0           # initial refractory time\n",
    "        \n",
    "        #LIF Properties \n",
    "        #self.Vm       = np.zeros(len(time)) # potential (V) trace over time\n",
    "        self.Vm       = 0                # Initial potential (mV)\n",
    "        self.t        = 0                # Neuron time step\n",
    "        self.Rm       = 1                # Resistance (kOhm)\n",
    "        self.Cm       = 10               # Capacitance (uF)\n",
    "        self.tau_m    = self.Rm * self.Cm # Time constant\n",
    "        self.tau_ref  = 4                # refractory period (ms)\n",
    "        self.Vth      = 0.75             # = 1  #spike threshold\n",
    "        self.V_spike  = 0.5              # spike delta (V)\n",
    "    \n",
    "    def spike_generator(self, input, duration):\n",
    "        time = np.arange(self.t, self.t+duration+self.dt, self.dt)\n",
    "        Vm = np.zeros(len(time)) # potential (V) trace over time\n",
    "        Vm[-1] = self.Vm   # Vm[0] doesn't work due to the equation below starting with [i-1] when i=0\n",
    "        print ('Neuron.spike_generator.initial_state(input={}, duration={}, Vm={}, t={})'\n",
    "               .format(input, duration, self.Vm, self.t))\n",
    "        for i,t in enumerate(time):\n",
    "            if t > self.t_rest:\n",
    "                Vm[i] = Vm[i-1] + (-Vm[i-1] + input*self.Rm) / self.tau_m * self.dt\n",
    "                if Vm[i] >= self.Vth:\n",
    "                    Vm[i] += self.V_spike\n",
    "                    self.t_rest = t + self.tau_ref\n",
    "                    #print ('*** Neuron.spike_generator.spike=(self.t_rest={}, t={}, self.tau_ref={})'\n",
    "                    #       .format(self.t_rest, t, self.tau_ref))\n",
    "\n",
    "            # Save state\n",
    "            self.Vm = Vm[i]\n",
    "            self.t += self.dt\n",
    "        print ('Neuron.spike_generator.exit_state(Vm={} at iteration i={}, time={})'.format(self.Vm, i, self.t))\n",
    "        return time, Vm"
   ]
  },
  {
   "cell_type": "code",
   "execution_count": 24,
   "metadata": {
    "collapsed": true
   },
   "outputs": [],
   "source": [
    "neuron = Neuron()"
   ]
  },
  {
   "cell_type": "code",
   "execution_count": 25,
   "metadata": {
    "scrolled": false
   },
   "outputs": [
    {
     "name": "stdout",
     "output_type": "stream",
     "text": [
      "Neuron.spike_generator.initial_state(input=0.9, duration=25, Vm=0, t=0)\n",
      "Neuron.spike_generator.exit_state(Vm=0.24284151927680617 at iteration i=200, time=25.125)\n",
      "Neuron.spike_generator.initial_state(input=0.9, duration=25, Vm=0.24284151927680617, t=25.125)\n",
      "Neuron.spike_generator.exit_state(Vm=0.4261566078593488 at iteration i=200, time=50.25)\n",
      "Neuron.spike_generator.initial_state(input=0.9, duration=25, Vm=0.4261566078593488, t=50.25)\n",
      "Neuron.spike_generator.exit_state(Vm=0.5583357487401372 at iteration i=200, time=75.375)\n",
      "Neuron.spike_generator.initial_state(input=0.9, duration=25, Vm=0.5583357487401372, t=75.375)\n",
      "Neuron.spike_generator.exit_state(Vm=0.6536433713645365 at iteration i=200, time=100.5)\n",
      "Neuron.spike_generator.initial_state(input=0.9, duration=25, Vm=0.6536433713645365, t=100.5)\n",
      "Neuron.spike_generator.exit_state(Vm=0.7223648267302311 at iteration i=200, time=125.625)\n"
     ]
    }
   ],
   "source": [
    "neuron_time = np.zeros(1)\n",
    "neuron_Vm = np.zeros(1)\n",
    "for time_step in range (5):\n",
    "    t, v = neuron.spike_generator(.9, duration=25)\n",
    "    #print(t)\n",
    "    neuron_time = np.append(neuron_time,t)\n",
    "    #print(neuron_time)\n",
    "    neuron_Vm = np.append(neuron_Vm,v)"
   ]
  },
  {
   "cell_type": "code",
   "execution_count": 26,
   "metadata": {},
   "outputs": [
    {
     "name": "stdout",
     "output_type": "stream",
     "text": [
      "[  0.00000000e+00   0.00000000e+00   1.25000000e-01 ...,   1.25250000e+02\n",
      "   1.25375000e+02   1.25500000e+02]\n"
     ]
    }
   ],
   "source": [
    "print(neuron_time)"
   ]
  },
  {
   "cell_type": "code",
   "execution_count": 27,
   "metadata": {},
   "outputs": [
    {
     "data": {
      "image/png": "[encoded data removed]",
      "text/plain": [
       "<matplotlib.figure.Figure at 0x1151d1470>"
      ]
     },
     "metadata": {},
     "output_type": "display_data"
    }
   ],
   "source": [
    "plot_spikes(neuron_time, neuron_Vm, neuron_id = \"0\")"
   ]
  },
  {
   "cell_type": "code",
   "execution_count": null,
   "metadata": {
    "collapsed": true
   },
   "outputs": [],
   "source": []
  },
  {
   "cell_type": "code",
   "execution_count": null,
   "metadata": {
    "collapsed": true
   },
   "outputs": [],
   "source": []
  }
 ],
 "metadata": {
  "kernelspec": {
   "display_name": "Python 3",
   "language": "python",
   "name": "python3"
  },
  "language_info": {
   "codemirror_mode": {
    "name": "ipython",
    "version": 3
   },
   "file_extension": ".py",
   "mimetype": "text/x-python",
   "name": "python",
   "nbconvert_exporter": "python",
   "pygments_lexer": "ipython3",
   "version": "3.6.1"
  }
 },
 "nbformat": 4,
 "nbformat_minor": 2
}
