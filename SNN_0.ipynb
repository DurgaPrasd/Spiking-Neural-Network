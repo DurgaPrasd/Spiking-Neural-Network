{
 "cells": [
  {
   "cell_type": "markdown",
   "metadata": {},
   "source": [
    "# SNN_0\n",
    "\n",
    "This code is designed to demo the use of a Spiking Neural Network to propogate spikes between neurons. At this stage there is no learning involved, it's purely about propogating spikes between LIF neurons.\n",
    "\n",
    "More biologically plausible neurons and learning will be introduced later."
   ]
  },
  {
   "cell_type": "markdown",
   "metadata": {},
   "source": [
    "### Set up the environment"
   ]
  },
  {
   "cell_type": "code",
   "execution_count": 2,
   "metadata": {
    "collapsed": true
   },
   "outputs": [],
   "source": [
    "import numpy as np\n",
    "from mnist import MNIST   \n",
    "import cv2\n",
    "import matplotlib.pyplot as plt\n",
    "%matplotlib inline"
   ]
  },
  {
   "cell_type": "code",
   "execution_count": 3,
   "metadata": {
    "collapsed": true
   },
   "outputs": [],
   "source": [
    "duration = 50        # Length of each time period (ms)"
   ]
  },
  {
   "cell_type": "markdown",
   "metadata": {},
   "source": [
    "### Utility functions"
   ]
  },
  {
   "cell_type": "code",
   "execution_count": 75,
   "metadata": {},
   "outputs": [],
   "source": [
    "def plot_neuron_behaviour(time, Vm, neuron_type, neuron_id, y_title):\n",
    "    plt.plot(time,Vm)\n",
    "    plt.title('{} @ {}'.format(neuron_type, neuron_id))\n",
    "    plt.ylabel(y_title)\n",
    "    plt.xlabel('Time (msec)')\n",
    "    plt.ylim([0,2])\n",
    "    plt.show()"
   ]
  },
  {
   "cell_type": "code",
   "execution_count": 76,
   "metadata": {
    "collapsed": true
   },
   "outputs": [],
   "source": [
    "def plot_membrane_potential(time, Vm, neuron_type, neuron_id = 0):\n",
    "    plot_neuron_behaviour(time, Vm, neuron_type, neuron_id, y_title = 'Membrane potential (V)')\n",
    "\n",
    "def plot_spikes(time, Vm, neuron_type, neuron_id = 0):\n",
    "    plot_neuron_behaviour(time, Vm, neuron_type, neuron_id, y_title = 'Spike (V)')"
   ]
  },
  {
   "cell_type": "markdown",
   "metadata": {},
   "source": [
    "### Create a basic neuron class\n",
    "\n",
    "Use LIF neuron for now, this can be made more complex over time.\n",
    "\n",
    "Based on http://neurdon.wpengine.com/2011/01/19/neural-modeling-with-python-part-1/"
   ]
  },
  {
   "cell_type": "code",
   "execution_count": 201,
   "metadata": {},
   "outputs": [],
   "source": [
    "class Neuron():\n",
    "    def __init__(self):\n",
    "        # Simulation config (may not all be needed!!)\n",
    "        #self.T        = 50          # total time to sumulate (msec)\n",
    "        self.dt       = 0.125       # simulation time step\n",
    "        #self.time     = np.arange(0, T+dt, dt) # Time array\n",
    "        self.t_rest   = 0           # initial refractory time\n",
    "        \n",
    "        #LIF Properties \n",
    "        #self.Vm       = np.zeros(len(time)) # potential (V) trace over time\n",
    "        self.Vm       = 0                # Initial potential (mV)\n",
    "        self.output   = 0                # Neuron output\n",
    "        self.t        = 0                # Neuron time step\n",
    "        self.Rm       = 1                # Resistance (kOhm)\n",
    "        self.Cm       = 10               # Capacitance (uF)\n",
    "        self.tau_m    = self.Rm * self.Cm # Time constant\n",
    "        self.tau_ref  = 4                # refractory period (ms)\n",
    "        self.Vth      = 0.75             # = 1  #spike threshold\n",
    "        self.V_spike  = 0.5              # spike delta (V)\n",
    "        self.type     = 'Leaky Integrate and Fire'\n",
    "    \n",
    "    def spike_generator(self, neuron_input, debug=False):\n",
    "        duration = len(neuron_input)\n",
    "        if debug:\n",
    "            print ('spike_generator(): duration = {}'.format(duration))\n",
    "        #time = np.arange(self.t, self.t+duration+self.dt, self.dt)\n",
    "        time = np.arange(self.t, self.t+duration)   #, self.dt)        \n",
    "        Vm = np.zeros(duration)  #len(time)) # potential (V) trace over time\n",
    "        output = np.zeros(duration)  #len(time))\n",
    "        Vm[-1] = self.Vm   # Vm[0] doesn't work due to the equation below starting with [i-1] when i=0\n",
    "        if debug:\n",
    "            print ('Neuron.spike_generator.initial_state(input={}, duration={}, Vm={}, t={})'\n",
    "               .format(neuron_input, duration, self.Vm, self.t))\n",
    "        #for i,t in enumerate(time):\n",
    "        for i in range(duration):\n",
    "            t = self.t   # Hacky!! \n",
    "            if t > self.t_rest:\n",
    "                Vm[i] = Vm[i-1] + (-Vm[i-1] + neuron_input[i-1]*self.Rm) / self.tau_m * self.dt\n",
    "                if debug:\n",
    "                    print('spike_generator(): i={}, t={}, Vm[i-1]={}, neuron_input={}, self.Rm={}, self.tau_m * self.dt = {}'\n",
    "                          .format(i,t, Vm[i-1], neuron_input[i-1], self.Rm, self.tau_m * self.dt))\n",
    "                if Vm[i] >= self.Vth:\n",
    "                    #Vm[i] += self.V_spike\n",
    "                    output[i] = 1\n",
    "                    self.t_rest = t + self.tau_ref\n",
    "                    if debug:\n",
    "                        print ('*** Neuron.spike_generator.spike=(self.t_rest={}, t={}, self.tau_ref={})'\n",
    "                           .format(self.t_rest, t, self.tau_ref))\n",
    "\n",
    "            # Save state\n",
    "            self.Vm = Vm[i]\n",
    "            self.output = output[i]\n",
    "            self.t += self.dt\n",
    "        if debug:\n",
    "            print ('Neuron.spike_generator.exit_state(Vm={} at iteration i={}, time={})'\n",
    "                   .format(self.Vm, i, self.t))\n",
    "        return time, Vm, output"
   ]
  },
  {
   "cell_type": "markdown",
   "metadata": {},
   "source": [
    "* Assume a consistent/single input value for now"
   ]
  },
  {
   "cell_type": "code",
   "execution_count": 202,
   "metadata": {},
   "outputs": [],
   "source": [
    "T         = 50    # total time to sumulate (msec)\n",
    "dt        = 0.125 # Simulation timestep\n",
    "time      = int(T / dt)\n",
    "inpt      = 0.9   # Neuron input voltage\n",
    "neuron_input=np.full((time),inpt)"
   ]
  },
  {
   "cell_type": "code",
   "execution_count": 203,
   "metadata": {},
   "outputs": [
    {
     "name": "stdout",
     "output_type": "stream",
     "text": [
      "input: time=400\n"
     ]
    }
   ],
   "source": [
    "print('input: time={}'.format(time))"
   ]
  },
  {
   "cell_type": "code",
   "execution_count": 204,
   "metadata": {
    "collapsed": true
   },
   "outputs": [],
   "source": [
    "neuron = Neuron()"
   ]
  },
  {
   "cell_type": "code",
   "execution_count": 205,
   "metadata": {
    "scrolled": false
   },
   "outputs": [],
   "source": [
    "neuron_time = np.zeros(1)\n",
    "neuron_Vm = np.zeros(1)\n",
    "neuron_output = np.zeros(1)\n",
    "#for time_step in range (5):\n",
    "t, v, o = neuron.spike_generator(neuron_input)\n",
    "neuron_time = np.append(neuron_time,t)\n",
    "neuron_Vm = np.append(neuron_Vm,v)\n",
    "neuron_output = np.append(neuron_output, o)\n",
    "    "
   ]
  },
  {
   "cell_type": "code",
   "execution_count": 206,
   "metadata": {},
   "outputs": [
    {
     "name": "stdout",
     "output_type": "stream",
     "text": [
      "(401,)\n"
     ]
    }
   ],
   "source": [
    "print (neuron_time.shape)"
   ]
  },
  {
   "cell_type": "code",
   "execution_count": 207,
   "metadata": {},
   "outputs": [
    {
     "data": {
      "image/png": "[encoded data removed]",
      "text/plain": [
       "<matplotlib.figure.Figure at 0x11560ef98>"
      ]
     },
     "metadata": {},
     "output_type": "display_data"
    },
    {
     "data": {
      "image/png": "[encoded data removed]",
      "text/plain": [
       "<matplotlib.figure.Figure at 0x1156f62b0>"
      ]
     },
     "metadata": {},
     "output_type": "display_data"
    }
   ],
   "source": [
    "plot_membrane_potential(neuron_time, neuron_Vm, neuron.type, neuron_id = \"0\")\n",
    "plot_spikes(neuron_time, neuron_output, neuron.type, neuron_id = \"0\")"
   ]
  },
  {
   "cell_type": "code",
   "execution_count": 236,
   "metadata": {
    "collapsed": true
   },
   "outputs": [],
   "source": [
    "neuron2 = Neuron()"
   ]
  },
  {
   "cell_type": "code",
   "execution_count": 237,
   "metadata": {},
   "outputs": [
    {
     "name": "stdout",
     "output_type": "stream",
     "text": [
      "(401,)\n",
      "(401,)\n",
      "(401,)\n"
     ]
    }
   ],
   "source": [
    "neuron2_time = np.zeros(len(neuron_time))\n",
    "print (neuron2_time.shape)\n",
    "neuron2_Vm = np.zeros(len(neuron_Vm))\n",
    "print (neuron2_Vm.shape)\n",
    "neuron2_output = np.zeros(len(neuron_output))\n",
    "print (neuron2_output.shape)"
   ]
  },
  {
   "cell_type": "code",
   "execution_count": 238,
   "metadata": {
    "scrolled": false
   },
   "outputs": [
    {
     "name": "stdout",
     "output_type": "stream",
     "text": [
      "spike_generator(): duration = 401\n",
      "Neuron.spike_generator.initial_state(input=[ 0.  0.  0.  0.  0.  0.  0.  0.  0.  0.  0.  0.  0.  0.  0.  0.  0.  0.\n",
      "  0.  0.  0.  0.  0.  0.  0.  0.  0.  0.  0.  0.  0.  0.  0.  0.  0.  0.\n",
      "  0.  0.  0.  0.  0.  0.  0.  0.  0.  0.  0.  0.  0.  0.  0.  0.  0.  0.\n",
      "  0.  0.  0.  0.  0.  0.  0.  0.  0.  0.  0.  0.  0.  0.  0.  0.  0.  0.\n",
      "  0.  0.  0.  0.  0.  0.  0.  0.  0.  0.  0.  0.  0.  0.  0.  0.  0.  0.\n",
      "  0.  0.  0.  0.  0.  0.  0.  0.  0.  0.  0.  0.  0.  0.  0.  0.  0.  0.\n",
      "  0.  0.  0.  0.  0.  0.  0.  0.  0.  0.  0.  0.  0.  0.  0.  0.  0.  0.\n",
      "  0.  0.  0.  0.  0.  0.  0.  0.  0.  0.  0.  0.  0.  0.  0.  0.  0.  0.\n",
      "  1.  0.  0.  0.  0.  0.  0.  0.  0.  0.  0.  0.  0.  0.  0.  0.  0.  0.\n",
      "  0.  0.  0.  0.  0.  0.  0.  0.  0.  0.  0.  0.  0.  0.  0.  0.  0.  0.\n",
      "  0.  0.  0.  0.  0.  0.  0.  0.  0.  0.  0.  0.  0.  0.  0.  0.  0.  0.\n",
      "  0.  0.  0.  0.  0.  0.  0.  0.  0.  0.  0.  0.  0.  0.  0.  0.  0.  0.\n",
      "  0.  0.  0.  0.  0.  0.  0.  0.  0.  0.  0.  0.  0.  0.  0.  0.  0.  0.\n",
      "  0.  0.  0.  0.  0.  0.  0.  0.  0.  0.  0.  0.  0.  0.  0.  0.  0.  0.\n",
      "  0.  0.  0.  0.  0.  0.  0.  0.  0.  0.  0.  0.  0.  0.  0.  0.  0.  0.\n",
      "  0.  0.  0.  0.  0.  0.  0.  0.  0.  0.  0.  0.  0.  0.  0.  0.  0.  0.\n",
      "  0.  0.  0.  0.  0.  0.  0.  0.  0.  0.  0.  0.  0.  0.  0.  0.  0.  0.\n",
      "  0.  0.  0.  0.  0.  0.  0.  0.  0.  0.  0.  0.  0.  1.  0.  0.  0.  0.\n",
      "  0.  0.  0.  0.  0.  0.  0.  0.  0.  0.  0.  0.  0.  0.  0.  0.  0.  0.\n",
      "  0.  0.  0.  0.  0.  0.  0.  0.  0.  0.  0.  0.  0.  0.  0.  0.  0.  0.\n",
      "  0.  0.  0.  0.  0.  0.  0.  0.  0.  0.  0.  0.  0.  0.  0.  0.  0.  0.\n",
      "  0.  0.  0.  0.  0.  0.  0.  0.  0.  0.  0.  0.  0.  0.  0.  0.  0.  0.\n",
      "  0.  0.  0.  0.  0.], duration=401, Vm=0.0021185462855562126, t=275.375)\n",
      "spike_generator(): i=0, t=275.375, Vm[i-1]=0.0021185462855562126, neuron_input=0.0, self.Rm=1, self.tau_m * self.dt = 1.25\n",
      "spike_generator(): i=1, t=275.5, Vm[i-1]=0.00209206445698676, neuron_input=0.0, self.Rm=1, self.tau_m * self.dt = 1.25\n",
      "spike_generator(): i=2, t=275.625, Vm[i-1]=0.0020659136512744254, neuron_input=0.0, self.Rm=1, self.tau_m * self.dt = 1.25\n",
      "spike_generator(): i=3, t=275.75, Vm[i-1]=0.0020400897306334952, neuron_input=0.0, self.Rm=1, self.tau_m * self.dt = 1.25\n",
      "spike_generator(): i=4, t=275.875, Vm[i-1]=0.0020145886090005764, neuron_input=0.0, self.Rm=1, self.tau_m * self.dt = 1.25\n",
      "spike_generator(): i=5, t=276.0, Vm[i-1]=0.001989406251388069, neuron_input=0.0, self.Rm=1, self.tau_m * self.dt = 1.25\n",
      "spike_generator(): i=6, t=276.125, Vm[i-1]=0.0019645386732457183, neuron_input=0.0, self.Rm=1, self.tau_m * self.dt = 1.25\n",
      "spike_generator(): i=7, t=276.25, Vm[i-1]=0.0019399819398301468, neuron_input=0.0, self.Rm=1, self.tau_m * self.dt = 1.25\n",
      "spike_generator(): i=8, t=276.375, Vm[i-1]=0.00191573216558227, neuron_input=0.0, self.Rm=1, self.tau_m * self.dt = 1.25\n",
      "spike_generator(): i=9, t=276.5, Vm[i-1]=0.0018917855135124916, neuron_input=0.0, self.Rm=1, self.tau_m * self.dt = 1.25\n",
      "spike_generator(): i=10, t=276.625, Vm[i-1]=0.0018681381945935855, neuron_input=0.0, self.Rm=1, self.tau_m * self.dt = 1.25\n",
      "spike_generator(): i=11, t=276.75, Vm[i-1]=0.0018447864671611656, neuron_input=0.0, self.Rm=1, self.tau_m * self.dt = 1.25\n",
      "spike_generator(): i=12, t=276.875, Vm[i-1]=0.001821726636321651, neuron_input=0.0, self.Rm=1, self.tau_m * self.dt = 1.25\n",
      "spike_generator(): i=13, t=277.0, Vm[i-1]=0.0017989550533676305, neuron_input=0.0, self.Rm=1, self.tau_m * self.dt = 1.25\n",
      "spike_generator(): i=14, t=277.125, Vm[i-1]=0.001776468115200535, neuron_input=0.0, self.Rm=1, self.tau_m * self.dt = 1.25\n",
      "spike_generator(): i=15, t=277.25, Vm[i-1]=0.0017542622637605283, neuron_input=0.0, self.Rm=1, self.tau_m * self.dt = 1.25\n",
      "spike_generator(): i=16, t=277.375, Vm[i-1]=0.0017323339854635217, neuron_input=0.0, self.Rm=1, self.tau_m * self.dt = 1.25\n",
      "spike_generator(): i=17, t=277.5, Vm[i-1]=0.0017106798106452277, neuron_input=0.0, self.Rm=1, self.tau_m * self.dt = 1.25\n",
      "spike_generator(): i=18, t=277.625, Vm[i-1]=0.0016892963130121623, neuron_input=0.0, self.Rm=1, self.tau_m * self.dt = 1.25\n",
      "spike_generator(): i=19, t=277.75, Vm[i-1]=0.0016681801090995103, neuron_input=0.0, self.Rm=1, self.tau_m * self.dt = 1.25\n",
      "spike_generator(): i=20, t=277.875, Vm[i-1]=0.0016473278577357664, neuron_input=0.0, self.Rm=1, self.tau_m * self.dt = 1.25\n",
      "spike_generator(): i=21, t=278.0, Vm[i-1]=0.0016267362595140692, neuron_input=0.0, self.Rm=1, self.tau_m * self.dt = 1.25\n",
      "spike_generator(): i=22, t=278.125, Vm[i-1]=0.0016064020562701433, neuron_input=0.0, self.Rm=1, self.tau_m * self.dt = 1.25\n",
      "spike_generator(): i=23, t=278.25, Vm[i-1]=0.0015863220305667666, neuron_input=0.0, self.Rm=1, self.tau_m * self.dt = 1.25\n",
      "spike_generator(): i=24, t=278.375, Vm[i-1]=0.001566493005184682, neuron_input=0.0, self.Rm=1, self.tau_m * self.dt = 1.25\n",
      "spike_generator(): i=25, t=278.5, Vm[i-1]=0.0015469118426198736, neuron_input=0.0, self.Rm=1, self.tau_m * self.dt = 1.25\n",
      "spike_generator(): i=26, t=278.625, Vm[i-1]=0.0015275754445871251, neuron_input=0.0, self.Rm=1, self.tau_m * self.dt = 1.25\n",
      "spike_generator(): i=27, t=278.75, Vm[i-1]=0.001508480751529786, neuron_input=0.0, self.Rm=1, self.tau_m * self.dt = 1.25\n",
      "spike_generator(): i=28, t=278.875, Vm[i-1]=0.0014896247421356638, neuron_input=0.0, self.Rm=1, self.tau_m * self.dt = 1.25\n",
      "spike_generator(): i=29, t=279.0, Vm[i-1]=0.001471004432858968, neuron_input=0.0, self.Rm=1, self.tau_m * self.dt = 1.25\n",
      "spike_generator(): i=30, t=279.125, Vm[i-1]=0.001452616877448231, neuron_input=0.0, self.Rm=1, self.tau_m * self.dt = 1.25\n",
      "spike_generator(): i=31, t=279.25, Vm[i-1]=0.001434459166480128, neuron_input=0.0, self.Rm=1, self.tau_m * self.dt = 1.25\n",
      "spike_generator(): i=32, t=279.375, Vm[i-1]=0.0014165284268991263, neuron_input=0.0, self.Rm=1, self.tau_m * self.dt = 1.25\n",
      "spike_generator(): i=33, t=279.5, Vm[i-1]=0.0013988218215628871, neuron_input=0.0, self.Rm=1, self.tau_m * self.dt = 1.25\n",
      "spike_generator(): i=34, t=279.625, Vm[i-1]=0.001381336548793351, neuron_input=0.0, self.Rm=1, self.tau_m * self.dt = 1.25\n",
      "spike_generator(): i=35, t=279.75, Vm[i-1]=0.001364069841933434, neuron_input=0.0, self.Rm=1, self.tau_m * self.dt = 1.25\n",
      "spike_generator(): i=36, t=279.875, Vm[i-1]=0.0013470189689092661, neuron_input=0.0, self.Rm=1, self.tau_m * self.dt = 1.25\n",
      "spike_generator(): i=37, t=280.0, Vm[i-1]=0.0013301812317979003, neuron_input=0.0, self.Rm=1, self.tau_m * self.dt = 1.25\n",
      "spike_generator(): i=38, t=280.125, Vm[i-1]=0.0013135539664004266, neuron_input=0.0, self.Rm=1, self.tau_m * self.dt = 1.25\n",
      "spike_generator(): i=39, t=280.25, Vm[i-1]=0.0012971345418204211, neuron_input=0.0, self.Rm=1, self.tau_m * self.dt = 1.25\n",
      "spike_generator(): i=40, t=280.375, Vm[i-1]=0.0012809203600476658, neuron_input=0.0, self.Rm=1, self.tau_m * self.dt = 1.25\n",
      "spike_generator(): i=41, t=280.5, Vm[i-1]=0.00126490885554707, neuron_input=0.0, self.Rm=1, self.tau_m * self.dt = 1.25\n",
      "spike_generator(): i=42, t=280.625, Vm[i-1]=0.0012490974948527315, neuron_input=0.0, self.Rm=1, self.tau_m * self.dt = 1.25\n",
      "spike_generator(): i=43, t=280.75, Vm[i-1]=0.0012334837761670723, neuron_input=0.0, self.Rm=1, self.tau_m * self.dt = 1.25\n",
      "spike_generator(): i=44, t=280.875, Vm[i-1]=0.0012180652289649839, neuron_input=0.0, self.Rm=1, self.tau_m * self.dt = 1.25\n",
      "spike_generator(): i=45, t=281.0, Vm[i-1]=0.0012028394136029215, neuron_input=0.0, self.Rm=1, self.tau_m * self.dt = 1.25\n",
      "spike_generator(): i=46, t=281.125, Vm[i-1]=0.001187803920932885, neuron_input=0.0, self.Rm=1, self.tau_m * self.dt = 1.25\n",
      "spike_generator(): i=47, t=281.25, Vm[i-1]=0.0011729563719212238, neuron_input=0.0, self.Rm=1, self.tau_m * self.dt = 1.25\n",
      "spike_generator(): i=48, t=281.375, Vm[i-1]=0.0011582944172722086, neuron_input=0.0, self.Rm=1, self.tau_m * self.dt = 1.25\n",
      "spike_generator(): i=49, t=281.5, Vm[i-1]=0.001143815737056306, neuron_input=0.0, self.Rm=1, self.tau_m * self.dt = 1.25\n",
      "spike_generator(): i=50, t=281.625, Vm[i-1]=0.0011295180403431023, neuron_input=0.0, self.Rm=1, self.tau_m * self.dt = 1.25\n",
      "spike_generator(): i=51, t=281.75, Vm[i-1]=0.0011153990648388136, neuron_input=0.0, self.Rm=1, self.tau_m * self.dt = 1.25\n",
      "spike_generator(): i=52, t=281.875, Vm[i-1]=0.0011014565765283283, neuron_input=0.0, self.Rm=1, self.tau_m * self.dt = 1.25\n",
      "spike_generator(): i=53, t=282.0, Vm[i-1]=0.0010876883693217243, neuron_input=0.0, self.Rm=1, self.tau_m * self.dt = 1.25\n",
      "spike_generator(): i=54, t=282.125, Vm[i-1]=0.0010740922647052027, neuron_input=0.0, self.Rm=1, self.tau_m * self.dt = 1.25\n",
      "spike_generator(): i=55, t=282.25, Vm[i-1]=0.0010606661113963876, neuron_input=0.0, self.Rm=1, self.tau_m * self.dt = 1.25\n",
      "spike_generator(): i=56, t=282.375, Vm[i-1]=0.0010474077850039327, neuron_input=0.0, self.Rm=1, self.tau_m * self.dt = 1.25\n",
      "spike_generator(): i=57, t=282.5, Vm[i-1]=0.0010343151876913835, neuron_input=0.0, self.Rm=1, self.tau_m * self.dt = 1.25\n",
      "spike_generator(): i=58, t=282.625, Vm[i-1]=0.0010213862478452413, neuron_input=0.0, self.Rm=1, self.tau_m * self.dt = 1.25\n",
      "spike_generator(): i=59, t=282.75, Vm[i-1]=0.0010086189197471757, neuron_input=0.0, self.Rm=1, self.tau_m * self.dt = 1.25\n",
      "spike_generator(): i=60, t=282.875, Vm[i-1]=0.0009960111832503361, neuron_input=0.0, self.Rm=1, self.tau_m * self.dt = 1.25\n",
      "spike_generator(): i=61, t=283.0, Vm[i-1]=0.000983561043459707, neuron_input=0.0, self.Rm=1, self.tau_m * self.dt = 1.25\n",
      "spike_generator(): i=62, t=283.125, Vm[i-1]=0.0009712665304164606, neuron_input=0.0, self.Rm=1, self.tau_m * self.dt = 1.25\n",
      "spike_generator(): i=63, t=283.25, Vm[i-1]=0.0009591256987862548, neuron_input=0.0, self.Rm=1, self.tau_m * self.dt = 1.25\n",
      "spike_generator(): i=64, t=283.375, Vm[i-1]=0.0009471366275514266, neuron_input=0.0, self.Rm=1, self.tau_m * self.dt = 1.25\n",
      "spike_generator(): i=65, t=283.5, Vm[i-1]=0.0009352974197070337, neuron_input=0.0, self.Rm=1, self.tau_m * self.dt = 1.25\n",
      "spike_generator(): i=66, t=283.625, Vm[i-1]=0.0009236062019606958, neuron_input=0.0, self.Rm=1, self.tau_m * self.dt = 1.25\n",
      "spike_generator(): i=67, t=283.75, Vm[i-1]=0.0009120611244361871, neuron_input=0.0, self.Rm=1, self.tau_m * self.dt = 1.25\n",
      "spike_generator(): i=68, t=283.875, Vm[i-1]=0.0009006603603807348, neuron_input=0.0, self.Rm=1, self.tau_m * self.dt = 1.25\n",
      "spike_generator(): i=69, t=284.0, Vm[i-1]=0.0008894021058759756, neuron_input=0.0, self.Rm=1, self.tau_m * self.dt = 1.25\n",
      "spike_generator(): i=70, t=284.125, Vm[i-1]=0.0008782845795525259, neuron_input=0.0, self.Rm=1, self.tau_m * self.dt = 1.25\n",
      "spike_generator(): i=71, t=284.25, Vm[i-1]=0.0008673060223081193, neuron_input=0.0, self.Rm=1, self.tau_m * self.dt = 1.25\n",
      "spike_generator(): i=72, t=284.375, Vm[i-1]=0.0008564646970292678, neuron_input=0.0, self.Rm=1, self.tau_m * self.dt = 1.25\n",
      "spike_generator(): i=73, t=284.5, Vm[i-1]=0.0008457588883164019, neuron_input=0.0, self.Rm=1, self.tau_m * self.dt = 1.25\n",
      "spike_generator(): i=74, t=284.625, Vm[i-1]=0.0008351869022124469, neuron_input=0.0, self.Rm=1, self.tau_m * self.dt = 1.25\n",
      "spike_generator(): i=75, t=284.75, Vm[i-1]=0.0008247470659347913, neuron_input=0.0, self.Rm=1, self.tau_m * self.dt = 1.25\n",
      "spike_generator(): i=76, t=284.875, Vm[i-1]=0.0008144377276106064, neuron_input=0.0, self.Rm=1, self.tau_m * self.dt = 1.25\n",
      "spike_generator(): i=77, t=285.0, Vm[i-1]=0.0008042572560154739, neuron_input=0.0, self.Rm=1, self.tau_m * self.dt = 1.25\n",
      "spike_generator(): i=78, t=285.125, Vm[i-1]=0.0007942040403152805, neuron_input=0.0, self.Rm=1, self.tau_m * self.dt = 1.25\n",
      "spike_generator(): i=79, t=285.25, Vm[i-1]=0.0007842764898113395, neuron_input=0.0, self.Rm=1, self.tau_m * self.dt = 1.25\n",
      "spike_generator(): i=80, t=285.375, Vm[i-1]=0.0007744730336886977, neuron_input=0.0, self.Rm=1, self.tau_m * self.dt = 1.25\n",
      "spike_generator(): i=81, t=285.5, Vm[i-1]=0.000764792120767589, neuron_input=0.0, self.Rm=1, self.tau_m * self.dt = 1.25\n",
      "spike_generator(): i=82, t=285.625, Vm[i-1]=0.0007552322192579941, neuron_input=0.0, self.Rm=1, self.tau_m * self.dt = 1.25\n",
      "spike_generator(): i=83, t=285.75, Vm[i-1]=0.0007457918165172693, neuron_input=0.0, self.Rm=1, self.tau_m * self.dt = 1.25\n",
      "spike_generator(): i=84, t=285.875, Vm[i-1]=0.0007364694188108034, neuron_input=0.0, self.Rm=1, self.tau_m * self.dt = 1.25\n",
      "spike_generator(): i=85, t=286.0, Vm[i-1]=0.0007272635510756684, neuron_input=0.0, self.Rm=1, self.tau_m * self.dt = 1.25\n",
      "spike_generator(): i=86, t=286.125, Vm[i-1]=0.0007181727566872225, neuron_input=0.0, self.Rm=1, self.tau_m * self.dt = 1.25\n",
      "spike_generator(): i=87, t=286.25, Vm[i-1]=0.0007091955972286322, neuron_input=0.0, self.Rm=1, self.tau_m * self.dt = 1.25\n",
      "spike_generator(): i=88, t=286.375, Vm[i-1]=0.0007003306522632743, neuron_input=0.0, self.Rm=1, self.tau_m * self.dt = 1.25\n",
      "spike_generator(): i=89, t=286.5, Vm[i-1]=0.0006915765191099834, neuron_input=0.0, self.Rm=1, self.tau_m * self.dt = 1.25\n",
      "spike_generator(): i=90, t=286.625, Vm[i-1]=0.0006829318126211085, neuron_input=0.0, self.Rm=1, self.tau_m * self.dt = 1.25\n",
      "spike_generator(): i=91, t=286.75, Vm[i-1]=0.0006743951649633447, neuron_input=0.0, self.Rm=1, self.tau_m * self.dt = 1.25\n",
      "spike_generator(): i=92, t=286.875, Vm[i-1]=0.0006659652254013029, neuron_input=0.0, self.Rm=1, self.tau_m * self.dt = 1.25\n",
      "spike_generator(): i=93, t=287.0, Vm[i-1]=0.0006576406600837866, neuron_input=0.0, self.Rm=1, self.tau_m * self.dt = 1.25\n",
      "spike_generator(): i=94, t=287.125, Vm[i-1]=0.0006494201518327393, neuron_input=0.0, self.Rm=1, self.tau_m * self.dt = 1.25\n",
      "spike_generator(): i=95, t=287.25, Vm[i-1]=0.00064130239993483, neuron_input=0.0, self.Rm=1, self.tau_m * self.dt = 1.25\n",
      "spike_generator(): i=96, t=287.375, Vm[i-1]=0.0006332861199356446, neuron_input=0.0, self.Rm=1, self.tau_m * self.dt = 1.25\n",
      "spike_generator(): i=97, t=287.5, Vm[i-1]=0.000625370043436449, neuron_input=0.0, self.Rm=1, self.tau_m * self.dt = 1.25\n",
      "spike_generator(): i=98, t=287.625, Vm[i-1]=0.0006175529178934934, neuron_input=0.0, self.Rm=1, self.tau_m * self.dt = 1.25\n",
      "spike_generator(): i=99, t=287.75, Vm[i-1]=0.0006098335064198246, neuron_input=0.0, self.Rm=1, self.tau_m * self.dt = 1.25\n",
      "spike_generator(): i=100, t=287.875, Vm[i-1]=0.0006022105875895769, neuron_input=0.0, self.Rm=1, self.tau_m * self.dt = 1.25\n",
      "spike_generator(): i=101, t=288.0, Vm[i-1]=0.0005946829552447071, neuron_input=0.0, self.Rm=1, self.tau_m * self.dt = 1.25\n",
      "spike_generator(): i=102, t=288.125, Vm[i-1]=0.0005872494183041483, neuron_input=0.0, self.Rm=1, self.tau_m * self.dt = 1.25\n",
      "spike_generator(): i=103, t=288.25, Vm[i-1]=0.0005799088005753465, neuron_input=0.0, self.Rm=1, self.tau_m * self.dt = 1.25\n",
      "spike_generator(): i=104, t=288.375, Vm[i-1]=0.0005726599405681547, neuron_input=0.0, self.Rm=1, self.tau_m * self.dt = 1.25\n",
      "spike_generator(): i=105, t=288.5, Vm[i-1]=0.0005655016913110528, neuron_input=0.0, self.Rm=1, self.tau_m * self.dt = 1.25\n",
      "spike_generator(): i=106, t=288.625, Vm[i-1]=0.0005584329201696646, neuron_input=0.0, self.Rm=1, self.tau_m * self.dt = 1.25\n",
      "spike_generator(): i=107, t=288.75, Vm[i-1]=0.0005514525086675439, neuron_input=0.0, self.Rm=1, self.tau_m * self.dt = 1.25\n",
      "spike_generator(): i=108, t=288.875, Vm[i-1]=0.0005445593523091996, neuron_input=0.0, self.Rm=1, self.tau_m * self.dt = 1.25\n",
      "spike_generator(): i=109, t=289.0, Vm[i-1]=0.0005377523604053347, neuron_input=0.0, self.Rm=1, self.tau_m * self.dt = 1.25\n",
      "spike_generator(): i=110, t=289.125, Vm[i-1]=0.000531030455900268, neuron_input=0.0, self.Rm=1, self.tau_m * self.dt = 1.25\n",
      "spike_generator(): i=111, t=289.25, Vm[i-1]=0.0005243925752015146, neuron_input=0.0, self.Rm=1, self.tau_m * self.dt = 1.25\n",
      "spike_generator(): i=112, t=289.375, Vm[i-1]=0.0005178376680114957, neuron_input=0.0, self.Rm=1, self.tau_m * self.dt = 1.25\n",
      "spike_generator(): i=113, t=289.5, Vm[i-1]=0.000511364697161352, neuron_input=0.0, self.Rm=1, self.tau_m * self.dt = 1.25\n",
      "spike_generator(): i=114, t=289.625, Vm[i-1]=0.0005049726384468351, neuron_input=0.0, self.Rm=1, self.tau_m * self.dt = 1.25\n",
      "spike_generator(): i=115, t=289.75, Vm[i-1]=0.0004986604804662497, neuron_input=0.0, self.Rm=1, self.tau_m * self.dt = 1.25\n",
      "spike_generator(): i=116, t=289.875, Vm[i-1]=0.0004924272244604216, neuron_input=0.0, self.Rm=1, self.tau_m * self.dt = 1.25\n",
      "spike_generator(): i=117, t=290.0, Vm[i-1]=0.00048627188415466634, neuron_input=0.0, self.Rm=1, self.tau_m * self.dt = 1.25\n",
      "spike_generator(): i=118, t=290.125, Vm[i-1]=0.000480193485602733, neuron_input=0.0, self.Rm=1, self.tau_m * self.dt = 1.25\n",
      "spike_generator(): i=119, t=290.25, Vm[i-1]=0.00047419106703269884, neuron_input=0.0, self.Rm=1, self.tau_m * self.dt = 1.25\n",
      "spike_generator(): i=120, t=290.375, Vm[i-1]=0.0004682636786947901, neuron_input=0.0, self.Rm=1, self.tau_m * self.dt = 1.25\n",
      "spike_generator(): i=121, t=290.5, Vm[i-1]=0.0004624103827111052, neuron_input=0.0, self.Rm=1, self.tau_m * self.dt = 1.25\n",
      "spike_generator(): i=122, t=290.625, Vm[i-1]=0.0004566302529272164, neuron_input=0.0, self.Rm=1, self.tau_m * self.dt = 1.25\n",
      "spike_generator(): i=123, t=290.75, Vm[i-1]=0.0004509223747656262, neuron_input=0.0, self.Rm=1, self.tau_m * self.dt = 1.25\n",
      "spike_generator(): i=124, t=290.875, Vm[i-1]=0.0004452858450810559, neuron_input=0.0, self.Rm=1, self.tau_m * self.dt = 1.25\n",
      "spike_generator(): i=125, t=291.0, Vm[i-1]=0.0004397197720175427, neuron_input=0.0, self.Rm=1, self.tau_m * self.dt = 1.25\n",
      "spike_generator(): i=126, t=291.125, Vm[i-1]=0.0004342232748673234, neuron_input=0.0, self.Rm=1, self.tau_m * self.dt = 1.25\n",
      "spike_generator(): i=127, t=291.25, Vm[i-1]=0.0004287954839314819, neuron_input=0.0, self.Rm=1, self.tau_m * self.dt = 1.25\n",
      "spike_generator(): i=128, t=291.375, Vm[i-1]=0.0004234355403823384, neuron_input=0.0, self.Rm=1, self.tau_m * self.dt = 1.25\n",
      "spike_generator(): i=129, t=291.5, Vm[i-1]=0.00041814259612755914, neuron_input=0.0, self.Rm=1, self.tau_m * self.dt = 1.25\n",
      "spike_generator(): i=130, t=291.625, Vm[i-1]=0.00041291581367596463, neuron_input=0.0, self.Rm=1, self.tau_m * self.dt = 1.25\n",
      "spike_generator(): i=131, t=291.75, Vm[i-1]=0.00040775436600501506, neuron_input=0.0, self.Rm=1, self.tau_m * self.dt = 1.25\n",
      "spike_generator(): i=132, t=291.875, Vm[i-1]=0.00040265743642995235, neuron_input=0.0, self.Rm=1, self.tau_m * self.dt = 1.25\n",
      "spike_generator(): i=133, t=292.0, Vm[i-1]=0.00039762421847457796, neuron_input=0.0, self.Rm=1, self.tau_m * self.dt = 1.25\n",
      "spike_generator(): i=134, t=292.125, Vm[i-1]=0.00039265391574364576, neuron_input=0.0, self.Rm=1, self.tau_m * self.dt = 1.25\n",
      "spike_generator(): i=135, t=292.25, Vm[i-1]=0.0003877457417968502, neuron_input=0.0, self.Rm=1, self.tau_m * self.dt = 1.25\n",
      "spike_generator(): i=136, t=292.375, Vm[i-1]=0.0003828989200243896, neuron_input=0.0, self.Rm=1, self.tau_m * self.dt = 1.25\n",
      "spike_generator(): i=137, t=292.5, Vm[i-1]=0.0003781126835240847, neuron_input=0.0, self.Rm=1, self.tau_m * self.dt = 1.25\n",
      "spike_generator(): i=138, t=292.625, Vm[i-1]=0.00037338627498003366, neuron_input=0.0, self.Rm=1, self.tau_m * self.dt = 1.25\n",
      "spike_generator(): i=139, t=292.75, Vm[i-1]=0.00036871894654278326, neuron_input=0.0, self.Rm=1, self.tau_m * self.dt = 1.25\n",
      "spike_generator(): i=140, t=292.875, Vm[i-1]=0.0003641099597109985, neuron_input=0.0, self.Rm=1, self.tau_m * self.dt = 1.25\n",
      "spike_generator(): i=141, t=293.0, Vm[i-1]=0.000359558585214611, neuron_input=0.0, self.Rm=1, self.tau_m * self.dt = 1.25\n",
      "spike_generator(): i=142, t=293.125, Vm[i-1]=0.00035506410289942833, neuron_input=0.0, self.Rm=1, self.tau_m * self.dt = 1.25\n",
      "spike_generator(): i=143, t=293.25, Vm[i-1]=0.00035062580161318547, neuron_input=0.0, self.Rm=1, self.tau_m * self.dt = 1.25\n",
      "spike_generator(): i=144, t=293.375, Vm[i-1]=0.00034624297909302066, neuron_input=0.0, self.Rm=1, self.tau_m * self.dt = 1.25\n",
      "spike_generator(): i=145, t=293.5, Vm[i-1]=0.0003419149418543579, neuron_input=1.0, self.Rm=1, self.tau_m * self.dt = 1.25\n",
      "spike_generator(): i=146, t=293.625, Vm[i-1]=0.012837641005081179, neuron_input=0.0, self.Rm=1, self.tau_m * self.dt = 1.25\n",
      "spike_generator(): i=147, t=293.75, Vm[i-1]=0.012677170492517664, neuron_input=0.0, self.Rm=1, self.tau_m * self.dt = 1.25\n",
      "spike_generator(): i=148, t=293.875, Vm[i-1]=0.012518705861361192, neuron_input=0.0, self.Rm=1, self.tau_m * self.dt = 1.25\n",
      "spike_generator(): i=149, t=294.0, Vm[i-1]=0.012362222038094178, neuron_input=0.0, self.Rm=1, self.tau_m * self.dt = 1.25\n",
      "spike_generator(): i=150, t=294.125, Vm[i-1]=0.012207694262618, neuron_input=0.0, self.Rm=1, self.tau_m * self.dt = 1.25\n",
      "spike_generator(): i=151, t=294.25, Vm[i-1]=0.012055098084335275, neuron_input=0.0, self.Rm=1, self.tau_m * self.dt = 1.25\n",
      "spike_generator(): i=152, t=294.375, Vm[i-1]=0.011904409358281085, neuron_input=0.0, self.Rm=1, self.tau_m * self.dt = 1.25\n",
      "spike_generator(): i=153, t=294.5, Vm[i-1]=0.011755604241302571, neuron_input=0.0, self.Rm=1, self.tau_m * self.dt = 1.25\n",
      "spike_generator(): i=154, t=294.625, Vm[i-1]=0.01160865918828629, neuron_input=0.0, self.Rm=1, self.tau_m * self.dt = 1.25\n",
      "spike_generator(): i=155, t=294.75, Vm[i-1]=0.01146355094843271, neuron_input=0.0, self.Rm=1, self.tau_m * self.dt = 1.25\n",
      "spike_generator(): i=156, t=294.875, Vm[i-1]=0.011320256561577301, neuron_input=0.0, self.Rm=1, self.tau_m * self.dt = 1.25\n",
      "spike_generator(): i=157, t=295.0, Vm[i-1]=0.011178753354557584, neuron_input=0.0, self.Rm=1, self.tau_m * self.dt = 1.25\n",
      "spike_generator(): i=158, t=295.125, Vm[i-1]=0.011039018937625614, neuron_input=0.0, self.Rm=1, self.tau_m * self.dt = 1.25\n",
      "spike_generator(): i=159, t=295.25, Vm[i-1]=0.010901031200905294, neuron_input=0.0, self.Rm=1, self.tau_m * self.dt = 1.25\n",
      "spike_generator(): i=160, t=295.375, Vm[i-1]=0.010764768310893978, neuron_input=0.0, self.Rm=1, self.tau_m * self.dt = 1.25\n",
      "spike_generator(): i=161, t=295.5, Vm[i-1]=0.010630208707007803, neuron_input=0.0, self.Rm=1, self.tau_m * self.dt = 1.25\n",
      "spike_generator(): i=162, t=295.625, Vm[i-1]=0.010497331098170205, neuron_input=0.0, self.Rm=1, self.tau_m * self.dt = 1.25\n",
      "spike_generator(): i=163, t=295.75, Vm[i-1]=0.010366114459443078, neuron_input=0.0, self.Rm=1, self.tau_m * self.dt = 1.25\n",
      "spike_generator(): i=164, t=295.875, Vm[i-1]=0.01023653802870004, neuron_input=0.0, self.Rm=1, self.tau_m * self.dt = 1.25\n",
      "spike_generator(): i=165, t=296.0, Vm[i-1]=0.01010858130334129, neuron_input=0.0, self.Rm=1, self.tau_m * self.dt = 1.25\n",
      "spike_generator(): i=166, t=296.125, Vm[i-1]=0.009982224037049523, neuron_input=0.0, self.Rm=1, self.tau_m * self.dt = 1.25\n",
      "spike_generator(): i=167, t=296.25, Vm[i-1]=0.009857446236586404, neuron_input=0.0, self.Rm=1, self.tau_m * self.dt = 1.25\n",
      "spike_generator(): i=168, t=296.375, Vm[i-1]=0.009734228158629074, neuron_input=0.0, self.Rm=1, self.tau_m * self.dt = 1.25\n",
      "spike_generator(): i=169, t=296.5, Vm[i-1]=0.009612550306646211, neuron_input=0.0, self.Rm=1, self.tau_m * self.dt = 1.25\n",
      "spike_generator(): i=170, t=296.625, Vm[i-1]=0.009492393427813134, neuron_input=0.0, self.Rm=1, self.tau_m * self.dt = 1.25\n",
      "spike_generator(): i=171, t=296.75, Vm[i-1]=0.00937373850996547, neuron_input=0.0, self.Rm=1, self.tau_m * self.dt = 1.25\n",
      "spike_generator(): i=172, t=296.875, Vm[i-1]=0.009256566778590903, neuron_input=0.0, self.Rm=1, self.tau_m * self.dt = 1.25\n",
      "spike_generator(): i=173, t=297.0, Vm[i-1]=0.009140859693858517, neuron_input=0.0, self.Rm=1, self.tau_m * self.dt = 1.25\n",
      "spike_generator(): i=174, t=297.125, Vm[i-1]=0.009026598947685285, neuron_input=0.0, self.Rm=1, self.tau_m * self.dt = 1.25\n",
      "spike_generator(): i=175, t=297.25, Vm[i-1]=0.00891376646083922, neuron_input=0.0, self.Rm=1, self.tau_m * self.dt = 1.25\n",
      "spike_generator(): i=176, t=297.375, Vm[i-1]=0.008802344380078729, neuron_input=0.0, self.Rm=1, self.tau_m * self.dt = 1.25\n",
      "spike_generator(): i=177, t=297.5, Vm[i-1]=0.008692315075327745, neuron_input=0.0, self.Rm=1, self.tau_m * self.dt = 1.25\n",
      "spike_generator(): i=178, t=297.625, Vm[i-1]=0.008583661136886148, neuron_input=0.0, self.Rm=1, self.tau_m * self.dt = 1.25\n",
      "spike_generator(): i=179, t=297.75, Vm[i-1]=0.008476365372675071, neuron_input=0.0, self.Rm=1, self.tau_m * self.dt = 1.25\n",
      "spike_generator(): i=180, t=297.875, Vm[i-1]=0.008370410805516633, neuron_input=0.0, self.Rm=1, self.tau_m * self.dt = 1.25\n",
      "spike_generator(): i=181, t=298.0, Vm[i-1]=0.008265780670447675, neuron_input=0.0, self.Rm=1, self.tau_m * self.dt = 1.25\n",
      "spike_generator(): i=182, t=298.125, Vm[i-1]=0.00816245841206708, neuron_input=0.0, self.Rm=1, self.tau_m * self.dt = 1.25\n",
      "spike_generator(): i=183, t=298.25, Vm[i-1]=0.00806042768191624, neuron_input=0.0, self.Rm=1, self.tau_m * self.dt = 1.25\n",
      "spike_generator(): i=184, t=298.375, Vm[i-1]=0.007959672335892287, neuron_input=0.0, self.Rm=1, self.tau_m * self.dt = 1.25\n",
      "spike_generator(): i=185, t=298.5, Vm[i-1]=0.007860176431693634, neuron_input=0.0, self.Rm=1, self.tau_m * self.dt = 1.25\n",
      "spike_generator(): i=186, t=298.625, Vm[i-1]=0.007761924226297463, neuron_input=0.0, self.Rm=1, self.tau_m * self.dt = 1.25\n",
      "spike_generator(): i=187, t=298.75, Vm[i-1]=0.007664900173468745, neuron_input=0.0, self.Rm=1, self.tau_m * self.dt = 1.25\n",
      "spike_generator(): i=188, t=298.875, Vm[i-1]=0.007569088921300386, neuron_input=0.0, self.Rm=1, self.tau_m * self.dt = 1.25\n",
      "spike_generator(): i=189, t=299.0, Vm[i-1]=0.007474475309784131, neuron_input=0.0, self.Rm=1, self.tau_m * self.dt = 1.25\n",
      "spike_generator(): i=190, t=299.125, Vm[i-1]=0.0073810443684118295, neuron_input=0.0, self.Rm=1, self.tau_m * self.dt = 1.25\n",
      "spike_generator(): i=191, t=299.25, Vm[i-1]=0.007288781313806681, neuron_input=0.0, self.Rm=1, self.tau_m * self.dt = 1.25\n",
      "spike_generator(): i=192, t=299.375, Vm[i-1]=0.007197671547384098, neuron_input=0.0, self.Rm=1, self.tau_m * self.dt = 1.25\n",
      "spike_generator(): i=193, t=299.5, Vm[i-1]=0.007107700653041797, neuron_input=0.0, self.Rm=1, self.tau_m * self.dt = 1.25\n",
      "spike_generator(): i=194, t=299.625, Vm[i-1]=0.007018854394878774, neuron_input=0.0, self.Rm=1, self.tau_m * self.dt = 1.25\n",
      "spike_generator(): i=195, t=299.75, Vm[i-1]=0.00693111871494279, neuron_input=0.0, self.Rm=1, self.tau_m * self.dt = 1.25\n",
      "spike_generator(): i=196, t=299.875, Vm[i-1]=0.006844479731006005, neuron_input=0.0, self.Rm=1, self.tau_m * self.dt = 1.25\n",
      "spike_generator(): i=197, t=300.0, Vm[i-1]=0.006758923734368431, neuron_input=0.0, self.Rm=1, self.tau_m * self.dt = 1.25\n",
      "spike_generator(): i=198, t=300.125, Vm[i-1]=0.0066744371876888255, neuron_input=0.0, self.Rm=1, self.tau_m * self.dt = 1.25\n",
      "spike_generator(): i=199, t=300.25, Vm[i-1]=0.006591006722842715, neuron_input=0.0, self.Rm=1, self.tau_m * self.dt = 1.25\n",
      "spike_generator(): i=200, t=300.375, Vm[i-1]=0.006508619138807181, neuron_input=0.0, self.Rm=1, self.tau_m * self.dt = 1.25\n",
      "spike_generator(): i=201, t=300.5, Vm[i-1]=0.006427261399572092, neuron_input=0.0, self.Rm=1, self.tau_m * self.dt = 1.25\n",
      "spike_generator(): i=202, t=300.625, Vm[i-1]=0.0063469206320774406, neuron_input=0.0, self.Rm=1, self.tau_m * self.dt = 1.25\n",
      "spike_generator(): i=203, t=300.75, Vm[i-1]=0.006267584124176473, neuron_input=0.0, self.Rm=1, self.tau_m * self.dt = 1.25\n",
      "spike_generator(): i=204, t=300.875, Vm[i-1]=0.006189239322624267, neuron_input=0.0, self.Rm=1, self.tau_m * self.dt = 1.25\n",
      "spike_generator(): i=205, t=301.0, Vm[i-1]=0.006111873831091463, neuron_input=0.0, self.Rm=1, self.tau_m * self.dt = 1.25\n",
      "spike_generator(): i=206, t=301.125, Vm[i-1]=0.00603547540820282, neuron_input=0.0, self.Rm=1, self.tau_m * self.dt = 1.25\n",
      "spike_generator(): i=207, t=301.25, Vm[i-1]=0.005960031965600285, neuron_input=0.0, self.Rm=1, self.tau_m * self.dt = 1.25\n",
      "spike_generator(): i=208, t=301.375, Vm[i-1]=0.005885531566030281, neuron_input=0.0, self.Rm=1, self.tau_m * self.dt = 1.25\n",
      "spike_generator(): i=209, t=301.5, Vm[i-1]=0.005811962421454903, neuron_input=0.0, self.Rm=1, self.tau_m * self.dt = 1.25\n",
      "spike_generator(): i=210, t=301.625, Vm[i-1]=0.005739312891186716, neuron_input=0.0, self.Rm=1, self.tau_m * self.dt = 1.25\n",
      "spike_generator(): i=211, t=301.75, Vm[i-1]=0.005667571480046882, neuron_input=0.0, self.Rm=1, self.tau_m * self.dt = 1.25\n",
      "spike_generator(): i=212, t=301.875, Vm[i-1]=0.005596726836546296, neuron_input=0.0, self.Rm=1, self.tau_m * self.dt = 1.25\n",
      "spike_generator(): i=213, t=302.0, Vm[i-1]=0.005526767751089468, neuron_input=0.0, self.Rm=1, self.tau_m * self.dt = 1.25\n",
      "spike_generator(): i=214, t=302.125, Vm[i-1]=0.00545768315420085, neuron_input=0.0, self.Rm=1, self.tau_m * self.dt = 1.25\n",
      "spike_generator(): i=215, t=302.25, Vm[i-1]=0.005389462114773339, neuron_input=0.0, self.Rm=1, self.tau_m * self.dt = 1.25\n",
      "spike_generator(): i=216, t=302.375, Vm[i-1]=0.005322093838338672, neuron_input=0.0, self.Rm=1, self.tau_m * self.dt = 1.25\n",
      "spike_generator(): i=217, t=302.5, Vm[i-1]=0.005255567665359439, neuron_input=0.0, self.Rm=1, self.tau_m * self.dt = 1.25\n",
      "spike_generator(): i=218, t=302.625, Vm[i-1]=0.005189873069542446, neuron_input=0.0, self.Rm=1, self.tau_m * self.dt = 1.25\n",
      "spike_generator(): i=219, t=302.75, Vm[i-1]=0.005124999656173165, neuron_input=0.0, self.Rm=1, self.tau_m * self.dt = 1.25\n",
      "spike_generator(): i=220, t=302.875, Vm[i-1]=0.005060937160471001, neuron_input=0.0, self.Rm=1, self.tau_m * self.dt = 1.25\n",
      "spike_generator(): i=221, t=303.0, Vm[i-1]=0.004997675445965113, neuron_input=0.0, self.Rm=1, self.tau_m * self.dt = 1.25\n",
      "spike_generator(): i=222, t=303.125, Vm[i-1]=0.004935204502890549, neuron_input=0.0, self.Rm=1, self.tau_m * self.dt = 1.25\n",
      "spike_generator(): i=223, t=303.25, Vm[i-1]=0.004873514446604417, neuron_input=0.0, self.Rm=1, self.tau_m * self.dt = 1.25\n",
      "spike_generator(): i=224, t=303.375, Vm[i-1]=0.004812595516021862, neuron_input=0.0, self.Rm=1, self.tau_m * self.dt = 1.25\n",
      "spike_generator(): i=225, t=303.5, Vm[i-1]=0.004752438072071589, neuron_input=0.0, self.Rm=1, self.tau_m * self.dt = 1.25\n",
      "spike_generator(): i=226, t=303.625, Vm[i-1]=0.004693032596170694, neuron_input=0.0, self.Rm=1, self.tau_m * self.dt = 1.25\n",
      "spike_generator(): i=227, t=303.75, Vm[i-1]=0.004634369688718561, neuron_input=0.0, self.Rm=1, self.tau_m * self.dt = 1.25\n",
      "spike_generator(): i=228, t=303.875, Vm[i-1]=0.004576440067609579, neuron_input=0.0, self.Rm=1, self.tau_m * self.dt = 1.25\n",
      "spike_generator(): i=229, t=304.0, Vm[i-1]=0.004519234566764459, neuron_input=0.0, self.Rm=1, self.tau_m * self.dt = 1.25\n",
      "spike_generator(): i=230, t=304.125, Vm[i-1]=0.004462744134679903, neuron_input=0.0, self.Rm=1, self.tau_m * self.dt = 1.25\n",
      "spike_generator(): i=231, t=304.25, Vm[i-1]=0.004406959832996404, neuron_input=0.0, self.Rm=1, self.tau_m * self.dt = 1.25\n",
      "spike_generator(): i=232, t=304.375, Vm[i-1]=0.004351872835083949, neuron_input=0.0, self.Rm=1, self.tau_m * self.dt = 1.25\n",
      "spike_generator(): i=233, t=304.5, Vm[i-1]=0.0042974744246453995, neuron_input=0.0, self.Rm=1, self.tau_m * self.dt = 1.25\n",
      "spike_generator(): i=234, t=304.625, Vm[i-1]=0.004243755994337332, neuron_input=0.0, self.Rm=1, self.tau_m * self.dt = 1.25\n",
      "spike_generator(): i=235, t=304.75, Vm[i-1]=0.004190709044408115, neuron_input=0.0, self.Rm=1, self.tau_m * self.dt = 1.25\n",
      "spike_generator(): i=236, t=304.875, Vm[i-1]=0.004138325181353013, neuron_input=0.0, self.Rm=1, self.tau_m * self.dt = 1.25\n",
      "spike_generator(): i=237, t=305.0, Vm[i-1]=0.004086596116586101, neuron_input=0.0, self.Rm=1, self.tau_m * self.dt = 1.25\n",
      "spike_generator(): i=238, t=305.125, Vm[i-1]=0.004035513665128774, neuron_input=0.0, self.Rm=1, self.tau_m * self.dt = 1.25\n",
      "spike_generator(): i=239, t=305.25, Vm[i-1]=0.0039850697443146645, neuron_input=0.0, self.Rm=1, self.tau_m * self.dt = 1.25\n",
      "spike_generator(): i=240, t=305.375, Vm[i-1]=0.003935256372510731, neuron_input=0.0, self.Rm=1, self.tau_m * self.dt = 1.25\n",
      "spike_generator(): i=241, t=305.5, Vm[i-1]=0.003886065667854347, neuron_input=0.0, self.Rm=1, self.tau_m * self.dt = 1.25\n",
      "spike_generator(): i=242, t=305.625, Vm[i-1]=0.003837489847006168, neuron_input=0.0, self.Rm=1, self.tau_m * self.dt = 1.25\n",
      "spike_generator(): i=243, t=305.75, Vm[i-1]=0.003789521223918591, neuron_input=0.0, self.Rm=1, self.tau_m * self.dt = 1.25\n",
      "spike_generator(): i=244, t=305.875, Vm[i-1]=0.0037421522086196085, neuron_input=0.0, self.Rm=1, self.tau_m * self.dt = 1.25\n",
      "spike_generator(): i=245, t=306.0, Vm[i-1]=0.0036953753060118633, neuron_input=0.0, self.Rm=1, self.tau_m * self.dt = 1.25\n",
      "spike_generator(): i=246, t=306.125, Vm[i-1]=0.003649183114686715, neuron_input=0.0, self.Rm=1, self.tau_m * self.dt = 1.25\n",
      "spike_generator(): i=247, t=306.25, Vm[i-1]=0.0036035683257531308, neuron_input=0.0, self.Rm=1, self.tau_m * self.dt = 1.25\n",
      "spike_generator(): i=248, t=306.375, Vm[i-1]=0.0035585237216812166, neuron_input=0.0, self.Rm=1, self.tau_m * self.dt = 1.25\n",
      "spike_generator(): i=249, t=306.5, Vm[i-1]=0.0035140421751602012, neuron_input=0.0, self.Rm=1, self.tau_m * self.dt = 1.25\n",
      "spike_generator(): i=250, t=306.625, Vm[i-1]=0.003470116647970699, neuron_input=0.0, self.Rm=1, self.tau_m * self.dt = 1.25\n",
      "spike_generator(): i=251, t=306.75, Vm[i-1]=0.0034267401898710652, neuron_input=0.0, self.Rm=1, self.tau_m * self.dt = 1.25\n",
      "spike_generator(): i=252, t=306.875, Vm[i-1]=0.0033839059374976767, neuron_input=0.0, self.Rm=1, self.tau_m * self.dt = 1.25\n",
      "spike_generator(): i=253, t=307.0, Vm[i-1]=0.0033416071132789556, neuron_input=0.0, self.Rm=1, self.tau_m * self.dt = 1.25\n",
      "spike_generator(): i=254, t=307.125, Vm[i-1]=0.0032998370243629686, neuron_input=0.0, self.Rm=1, self.tau_m * self.dt = 1.25\n",
      "spike_generator(): i=255, t=307.25, Vm[i-1]=0.0032585890615584316, neuron_input=0.0, self.Rm=1, self.tau_m * self.dt = 1.25\n",
      "spike_generator(): i=256, t=307.375, Vm[i-1]=0.0032178566982889512, neuron_input=0.0, self.Rm=1, self.tau_m * self.dt = 1.25\n",
      "spike_generator(): i=257, t=307.5, Vm[i-1]=0.0031776334895603393, neuron_input=0.0, self.Rm=1, self.tau_m * self.dt = 1.25\n",
      "spike_generator(): i=258, t=307.625, Vm[i-1]=0.0031379130709408352, neuron_input=0.0, self.Rm=1, self.tau_m * self.dt = 1.25\n",
      "spike_generator(): i=259, t=307.75, Vm[i-1]=0.0030986891575540748, neuron_input=0.0, self.Rm=1, self.tau_m * self.dt = 1.25\n",
      "spike_generator(): i=260, t=307.875, Vm[i-1]=0.003059955543084649, neuron_input=0.0, self.Rm=1, self.tau_m * self.dt = 1.25\n",
      "spike_generator(): i=261, t=308.0, Vm[i-1]=0.003021706098796091, neuron_input=0.0, self.Rm=1, self.tau_m * self.dt = 1.25\n",
      "spike_generator(): i=262, t=308.125, Vm[i-1]=0.0029839347725611398, neuron_input=0.0, self.Rm=1, self.tau_m * self.dt = 1.25\n",
      "spike_generator(): i=263, t=308.25, Vm[i-1]=0.0029466355879041255, neuron_input=0.0, self.Rm=1, self.tau_m * self.dt = 1.25\n",
      "spike_generator(): i=264, t=308.375, Vm[i-1]=0.002909802643055324, neuron_input=0.0, self.Rm=1, self.tau_m * self.dt = 1.25\n",
      "spike_generator(): i=265, t=308.5, Vm[i-1]=0.0028734301100171323, neuron_input=0.0, self.Rm=1, self.tau_m * self.dt = 1.25\n",
      "spike_generator(): i=266, t=308.625, Vm[i-1]=0.0028375122336419182, neuron_input=0.0, self.Rm=1, self.tau_m * self.dt = 1.25\n",
      "spike_generator(): i=267, t=308.75, Vm[i-1]=0.0028020433307213944, neuron_input=0.0, self.Rm=1, self.tau_m * self.dt = 1.25\n",
      "spike_generator(): i=268, t=308.875, Vm[i-1]=0.002767017789087377, neuron_input=0.0, self.Rm=1, self.tau_m * self.dt = 1.25\n",
      "spike_generator(): i=269, t=309.0, Vm[i-1]=0.002732430066723785, neuron_input=0.0, self.Rm=1, self.tau_m * self.dt = 1.25\n",
      "spike_generator(): i=270, t=309.125, Vm[i-1]=0.002698274690889738, neuron_input=0.0, self.Rm=1, self.tau_m * self.dt = 1.25\n",
      "spike_generator(): i=271, t=309.25, Vm[i-1]=0.0026645462572536163, neuron_input=0.0, self.Rm=1, self.tau_m * self.dt = 1.25\n",
      "spike_generator(): i=272, t=309.375, Vm[i-1]=0.002631239429037946, neuron_input=0.0, self.Rm=1, self.tau_m * self.dt = 1.25\n",
      "spike_generator(): i=273, t=309.5, Vm[i-1]=0.0025983489361749716, neuron_input=0.0, self.Rm=1, self.tau_m * self.dt = 1.25\n",
      "spike_generator(): i=274, t=309.625, Vm[i-1]=0.0025658695744727846, neuron_input=0.0, self.Rm=1, self.tau_m * self.dt = 1.25\n",
      "spike_generator(): i=275, t=309.75, Vm[i-1]=0.002533796204791875, neuron_input=0.0, self.Rm=1, self.tau_m * self.dt = 1.25\n",
      "spike_generator(): i=276, t=309.875, Vm[i-1]=0.0025021237522319766, neuron_input=0.0, self.Rm=1, self.tau_m * self.dt = 1.25\n",
      "spike_generator(): i=277, t=310.0, Vm[i-1]=0.0024708472053290766, neuron_input=0.0, self.Rm=1, self.tau_m * self.dt = 1.25\n",
      "spike_generator(): i=278, t=310.125, Vm[i-1]=0.002439961615262463, neuron_input=0.0, self.Rm=1, self.tau_m * self.dt = 1.25\n",
      "spike_generator(): i=279, t=310.25, Vm[i-1]=0.002409462095071682, neuron_input=0.0, self.Rm=1, self.tau_m * self.dt = 1.25\n",
      "spike_generator(): i=280, t=310.375, Vm[i-1]=0.002379343818883286, neuron_input=0.0, self.Rm=1, self.tau_m * self.dt = 1.25\n",
      "spike_generator(): i=281, t=310.5, Vm[i-1]=0.002349602021147245, neuron_input=0.0, self.Rm=1, self.tau_m * self.dt = 1.25\n",
      "spike_generator(): i=282, t=310.625, Vm[i-1]=0.0023202319958829046, neuron_input=0.0, self.Rm=1, self.tau_m * self.dt = 1.25\n",
      "spike_generator(): i=283, t=310.75, Vm[i-1]=0.002291229095934368, neuron_input=0.0, self.Rm=1, self.tau_m * self.dt = 1.25\n",
      "spike_generator(): i=284, t=310.875, Vm[i-1]=0.0022625887322351886, neuron_input=0.0, self.Rm=1, self.tau_m * self.dt = 1.25\n",
      "spike_generator(): i=285, t=311.0, Vm[i-1]=0.002234306373082249, neuron_input=0.0, self.Rm=1, self.tau_m * self.dt = 1.25\n",
      "spike_generator(): i=286, t=311.125, Vm[i-1]=0.002206377543418721, neuron_input=0.0, self.Rm=1, self.tau_m * self.dt = 1.25\n",
      "spike_generator(): i=287, t=311.25, Vm[i-1]=0.0021787978241259867, neuron_input=0.0, self.Rm=1, self.tau_m * self.dt = 1.25\n",
      "spike_generator(): i=288, t=311.375, Vm[i-1]=0.002151562851324412, neuron_input=0.0, self.Rm=1, self.tau_m * self.dt = 1.25\n",
      "spike_generator(): i=289, t=311.5, Vm[i-1]=0.002124668315682857, neuron_input=0.0, self.Rm=1, self.tau_m * self.dt = 1.25\n",
      "spike_generator(): i=290, t=311.625, Vm[i-1]=0.0020981099617368216, neuron_input=0.0, self.Rm=1, self.tau_m * self.dt = 1.25\n",
      "spike_generator(): i=291, t=311.75, Vm[i-1]=0.0020718835872151112, neuron_input=0.0, self.Rm=1, self.tau_m * self.dt = 1.25\n",
      "spike_generator(): i=292, t=311.875, Vm[i-1]=0.0020459850423749223, neuron_input=0.0, self.Rm=1, self.tau_m * self.dt = 1.25\n",
      "spike_generator(): i=293, t=312.0, Vm[i-1]=0.0020204102293452358, neuron_input=0.0, self.Rm=1, self.tau_m * self.dt = 1.25\n",
      "spike_generator(): i=294, t=312.125, Vm[i-1]=0.0019951551014784205, neuron_input=0.0, self.Rm=1, self.tau_m * self.dt = 1.25\n",
      "spike_generator(): i=295, t=312.25, Vm[i-1]=0.0019702156627099403, neuron_input=0.0, self.Rm=1, self.tau_m * self.dt = 1.25\n",
      "spike_generator(): i=296, t=312.375, Vm[i-1]=0.001945587966926066, neuron_input=0.0, self.Rm=1, self.tau_m * self.dt = 1.25\n",
      "spike_generator(): i=297, t=312.5, Vm[i-1]=0.0019212681173394902, neuron_input=0.0, self.Rm=1, self.tau_m * self.dt = 1.25\n",
      "spike_generator(): i=298, t=312.625, Vm[i-1]=0.0018972522658727467, neuron_input=0.0, self.Rm=1, self.tau_m * self.dt = 1.25\n",
      "spike_generator(): i=299, t=312.75, Vm[i-1]=0.0018735366125493373, neuron_input=0.0, self.Rm=1, self.tau_m * self.dt = 1.25\n",
      "spike_generator(): i=300, t=312.875, Vm[i-1]=0.0018501174048924705, neuron_input=0.0, self.Rm=1, self.tau_m * self.dt = 1.25\n",
      "spike_generator(): i=301, t=313.0, Vm[i-1]=0.0018269909373313147, neuron_input=0.0, self.Rm=1, self.tau_m * self.dt = 1.25\n",
      "spike_generator(): i=302, t=313.125, Vm[i-1]=0.0018041535506146732, neuron_input=0.0, self.Rm=1, self.tau_m * self.dt = 1.25\n",
      "spike_generator(): i=303, t=313.25, Vm[i-1]=0.0017816016312319897, neuron_input=0.0, self.Rm=1, self.tau_m * self.dt = 1.25\n",
      "spike_generator(): i=304, t=313.375, Vm[i-1]=0.0017593316108415898, neuron_input=0.0, self.Rm=1, self.tau_m * self.dt = 1.25\n",
      "spike_generator(): i=305, t=313.5, Vm[i-1]=0.0017373399657060699, neuron_input=0.0, self.Rm=1, self.tau_m * self.dt = 1.25\n",
      "spike_generator(): i=306, t=313.625, Vm[i-1]=0.001715623216134744, neuron_input=0.0, self.Rm=1, self.tau_m * self.dt = 1.25\n",
      "spike_generator(): i=307, t=313.75, Vm[i-1]=0.0016941779259330599, neuron_input=0.0, self.Rm=1, self.tau_m * self.dt = 1.25\n",
      "spike_generator(): i=308, t=313.875, Vm[i-1]=0.0016730007018588965, neuron_input=0.0, self.Rm=1, self.tau_m * self.dt = 1.25\n",
      "spike_generator(): i=309, t=314.0, Vm[i-1]=0.0016520881930856602, neuron_input=0.0, self.Rm=1, self.tau_m * self.dt = 1.25\n",
      "spike_generator(): i=310, t=314.125, Vm[i-1]=0.0016314370906720895, neuron_input=0.0, self.Rm=1, self.tau_m * self.dt = 1.25\n",
      "spike_generator(): i=311, t=314.25, Vm[i-1]=0.0016110441270386884, neuron_input=0.0, self.Rm=1, self.tau_m * self.dt = 1.25\n",
      "spike_generator(): i=312, t=314.375, Vm[i-1]=0.001590906075450705, neuron_input=0.0, self.Rm=1, self.tau_m * self.dt = 1.25\n",
      "spike_generator(): i=313, t=314.5, Vm[i-1]=0.0015710197495075711, neuron_input=0.0, self.Rm=1, self.tau_m * self.dt = 1.25\n",
      "spike_generator(): i=314, t=314.625, Vm[i-1]=0.0015513820026387265, neuron_input=0.0, self.Rm=1, self.tau_m * self.dt = 1.25\n",
      "spike_generator(): i=315, t=314.75, Vm[i-1]=0.0015319897276057425, neuron_input=0.0, self.Rm=1, self.tau_m * self.dt = 1.25\n",
      "spike_generator(): i=316, t=314.875, Vm[i-1]=0.0015128398560106707, neuron_input=0.0, self.Rm=1, self.tau_m * self.dt = 1.25\n",
      "spike_generator(): i=317, t=315.0, Vm[i-1]=0.0014939293578105375, neuron_input=0.0, self.Rm=1, self.tau_m * self.dt = 1.25\n",
      "spike_generator(): i=318, t=315.125, Vm[i-1]=0.0014752552408379058, neuron_input=0.0, self.Rm=1, self.tau_m * self.dt = 1.25\n",
      "spike_generator(): i=319, t=315.25, Vm[i-1]=0.001456814550327432, neuron_input=0.0, self.Rm=1, self.tau_m * self.dt = 1.25\n",
      "spike_generator(): i=320, t=315.375, Vm[i-1]=0.0014386043684483391, neuron_input=1.0, self.Rm=1, self.tau_m * self.dt = 1.25\n",
      "spike_generator(): i=321, t=315.5, Vm[i-1]=0.013920621813842736, neuron_input=0.0, self.Rm=1, self.tau_m * self.dt = 1.25\n",
      "spike_generator(): i=322, t=315.625, Vm[i-1]=0.013746614041169702, neuron_input=0.0, self.Rm=1, self.tau_m * self.dt = 1.25\n",
      "spike_generator(): i=323, t=315.75, Vm[i-1]=0.01357478136565508, neuron_input=0.0, self.Rm=1, self.tau_m * self.dt = 1.25\n",
      "spike_generator(): i=324, t=315.875, Vm[i-1]=0.013405096598584392, neuron_input=0.0, self.Rm=1, self.tau_m * self.dt = 1.25\n",
      "spike_generator(): i=325, t=316.0, Vm[i-1]=0.013237532891102088, neuron_input=0.0, self.Rm=1, self.tau_m * self.dt = 1.25\n",
      "spike_generator(): i=326, t=316.125, Vm[i-1]=0.013072063729963312, neuron_input=0.0, self.Rm=1, self.tau_m * self.dt = 1.25\n",
      "spike_generator(): i=327, t=316.25, Vm[i-1]=0.01290866293333877, neuron_input=0.0, self.Rm=1, self.tau_m * self.dt = 1.25\n",
      "spike_generator(): i=328, t=316.375, Vm[i-1]=0.012747304646672036, neuron_input=0.0, self.Rm=1, self.tau_m * self.dt = 1.25\n",
      "spike_generator(): i=329, t=316.5, Vm[i-1]=0.012587963338588635, neuron_input=0.0, self.Rm=1, self.tau_m * self.dt = 1.25\n",
      "spike_generator(): i=330, t=316.625, Vm[i-1]=0.012430613796856277, neuron_input=0.0, self.Rm=1, self.tau_m * self.dt = 1.25\n",
      "spike_generator(): i=331, t=316.75, Vm[i-1]=0.012275231124395573, neuron_input=0.0, self.Rm=1, self.tau_m * self.dt = 1.25\n",
      "spike_generator(): i=332, t=316.875, Vm[i-1]=0.012121790735340629, neuron_input=0.0, self.Rm=1, self.tau_m * self.dt = 1.25\n",
      "spike_generator(): i=333, t=317.0, Vm[i-1]=0.011970268351148871, neuron_input=0.0, self.Rm=1, self.tau_m * self.dt = 1.25\n",
      "spike_generator(): i=334, t=317.125, Vm[i-1]=0.01182063999675951, neuron_input=0.0, self.Rm=1, self.tau_m * self.dt = 1.25\n",
      "spike_generator(): i=335, t=317.25, Vm[i-1]=0.011672881996800017, neuron_input=0.0, self.Rm=1, self.tau_m * self.dt = 1.25\n",
      "spike_generator(): i=336, t=317.375, Vm[i-1]=0.011526970971840017, neuron_input=0.0, self.Rm=1, self.tau_m * self.dt = 1.25\n",
      "spike_generator(): i=337, t=317.5, Vm[i-1]=0.011382883834692017, neuron_input=0.0, self.Rm=1, self.tau_m * self.dt = 1.25\n",
      "spike_generator(): i=338, t=317.625, Vm[i-1]=0.011240597786758367, neuron_input=0.0, self.Rm=1, self.tau_m * self.dt = 1.25\n",
      "spike_generator(): i=339, t=317.75, Vm[i-1]=0.011100090314423886, neuron_input=0.0, self.Rm=1, self.tau_m * self.dt = 1.25\n",
      "spike_generator(): i=340, t=317.875, Vm[i-1]=0.010961339185493588, neuron_input=0.0, self.Rm=1, self.tau_m * self.dt = 1.25\n",
      "spike_generator(): i=341, t=318.0, Vm[i-1]=0.010824322445674918, neuron_input=0.0, self.Rm=1, self.tau_m * self.dt = 1.25\n",
      "spike_generator(): i=342, t=318.125, Vm[i-1]=0.010689018415103982, neuron_input=0.0, self.Rm=1, self.tau_m * self.dt = 1.25\n",
      "spike_generator(): i=343, t=318.25, Vm[i-1]=0.010555405684915182, neuron_input=0.0, self.Rm=1, self.tau_m * self.dt = 1.25\n",
      "spike_generator(): i=344, t=318.375, Vm[i-1]=0.010423463113853743, neuron_input=0.0, self.Rm=1, self.tau_m * self.dt = 1.25\n",
      "spike_generator(): i=345, t=318.5, Vm[i-1]=0.010293169824930571, neuron_input=0.0, self.Rm=1, self.tau_m * self.dt = 1.25\n",
      "spike_generator(): i=346, t=318.625, Vm[i-1]=0.010164505202118939, neuron_input=0.0, self.Rm=1, self.tau_m * self.dt = 1.25\n",
      "spike_generator(): i=347, t=318.75, Vm[i-1]=0.010037448887092452, neuron_input=0.0, self.Rm=1, self.tau_m * self.dt = 1.25\n",
      "spike_generator(): i=348, t=318.875, Vm[i-1]=0.009911980776003797, neuron_input=0.0, self.Rm=1, self.tau_m * self.dt = 1.25\n",
      "spike_generator(): i=349, t=319.0, Vm[i-1]=0.009788081016303749, neuron_input=0.0, self.Rm=1, self.tau_m * self.dt = 1.25\n",
      "spike_generator(): i=350, t=319.125, Vm[i-1]=0.009665730003599953, neuron_input=0.0, self.Rm=1, self.tau_m * self.dt = 1.25\n",
      "spike_generator(): i=351, t=319.25, Vm[i-1]=0.009544908378554953, neuron_input=0.0, self.Rm=1, self.tau_m * self.dt = 1.25\n",
      "spike_generator(): i=352, t=319.375, Vm[i-1]=0.009425597023823016, neuron_input=0.0, self.Rm=1, self.tau_m * self.dt = 1.25\n",
      "spike_generator(): i=353, t=319.5, Vm[i-1]=0.009307777061025228, neuron_input=0.0, self.Rm=1, self.tau_m * self.dt = 1.25\n",
      "spike_generator(): i=354, t=319.625, Vm[i-1]=0.009191429847762413, neuron_input=0.0, self.Rm=1, self.tau_m * self.dt = 1.25\n",
      "spike_generator(): i=355, t=319.75, Vm[i-1]=0.009076536974665383, neuron_input=0.0, self.Rm=1, self.tau_m * self.dt = 1.25\n",
      "spike_generator(): i=356, t=319.875, Vm[i-1]=0.008963080262482066, neuron_input=0.0, self.Rm=1, self.tau_m * self.dt = 1.25\n",
      "spike_generator(): i=357, t=320.0, Vm[i-1]=0.00885104175920104, neuron_input=0.0, self.Rm=1, self.tau_m * self.dt = 1.25\n",
      "spike_generator(): i=358, t=320.125, Vm[i-1]=0.008740403737211026, neuron_input=0.0, self.Rm=1, self.tau_m * self.dt = 1.25\n",
      "spike_generator(): i=359, t=320.25, Vm[i-1]=0.008631148690495888, neuron_input=0.0, self.Rm=1, self.tau_m * self.dt = 1.25\n",
      "spike_generator(): i=360, t=320.375, Vm[i-1]=0.008523259331864689, neuron_input=0.0, self.Rm=1, self.tau_m * self.dt = 1.25\n",
      "spike_generator(): i=361, t=320.5, Vm[i-1]=0.00841671859021638, neuron_input=0.0, self.Rm=1, self.tau_m * self.dt = 1.25\n",
      "spike_generator(): i=362, t=320.625, Vm[i-1]=0.008311509607838675, neuron_input=0.0, self.Rm=1, self.tau_m * self.dt = 1.25\n",
      "spike_generator(): i=363, t=320.75, Vm[i-1]=0.008207615737740691, neuron_input=0.0, self.Rm=1, self.tau_m * self.dt = 1.25\n",
      "spike_generator(): i=364, t=320.875, Vm[i-1]=0.008105020541018932, neuron_input=0.0, self.Rm=1, self.tau_m * self.dt = 1.25\n",
      "spike_generator(): i=365, t=321.0, Vm[i-1]=0.008003707784256195, neuron_input=0.0, self.Rm=1, self.tau_m * self.dt = 1.25\n",
      "spike_generator(): i=366, t=321.125, Vm[i-1]=0.007903661436952992, neuron_input=0.0, self.Rm=1, self.tau_m * self.dt = 1.25\n",
      "spike_generator(): i=367, t=321.25, Vm[i-1]=0.00780486566899108, neuron_input=0.0, self.Rm=1, self.tau_m * self.dt = 1.25\n",
      "spike_generator(): i=368, t=321.375, Vm[i-1]=0.007707304848128691, neuron_input=0.0, self.Rm=1, self.tau_m * self.dt = 1.25\n",
      "spike_generator(): i=369, t=321.5, Vm[i-1]=0.007610963537527083, neuron_input=0.0, self.Rm=1, self.tau_m * self.dt = 1.25\n",
      "spike_generator(): i=370, t=321.625, Vm[i-1]=0.007515826493307994, neuron_input=0.0, self.Rm=1, self.tau_m * self.dt = 1.25\n",
      "spike_generator(): i=371, t=321.75, Vm[i-1]=0.007421878662141644, neuron_input=0.0, self.Rm=1, self.tau_m * self.dt = 1.25\n",
      "spike_generator(): i=372, t=321.875, Vm[i-1]=0.007329105178864874, neuron_input=0.0, self.Rm=1, self.tau_m * self.dt = 1.25\n",
      "spike_generator(): i=373, t=322.0, Vm[i-1]=0.007237491364129063, neuron_input=0.0, self.Rm=1, self.tau_m * self.dt = 1.25\n",
      "spike_generator(): i=374, t=322.125, Vm[i-1]=0.00714702272207745, neuron_input=0.0, self.Rm=1, self.tau_m * self.dt = 1.25\n",
      "spike_generator(): i=375, t=322.25, Vm[i-1]=0.007057684938051482, neuron_input=0.0, self.Rm=1, self.tau_m * self.dt = 1.25\n",
      "spike_generator(): i=376, t=322.375, Vm[i-1]=0.006969463876325839, neuron_input=0.0, self.Rm=1, self.tau_m * self.dt = 1.25\n",
      "spike_generator(): i=377, t=322.5, Vm[i-1]=0.006882345577871766, neuron_input=0.0, self.Rm=1, self.tau_m * self.dt = 1.25\n",
      "spike_generator(): i=378, t=322.625, Vm[i-1]=0.006796316258148369, neuron_input=0.0, self.Rm=1, self.tau_m * self.dt = 1.25\n",
      "spike_generator(): i=379, t=322.75, Vm[i-1]=0.0067113623049215145, neuron_input=0.0, self.Rm=1, self.tau_m * self.dt = 1.25\n",
      "spike_generator(): i=380, t=322.875, Vm[i-1]=0.006627470276109996, neuron_input=0.0, self.Rm=1, self.tau_m * self.dt = 1.25\n",
      "spike_generator(): i=381, t=323.0, Vm[i-1]=0.006544626897658621, neuron_input=0.0, self.Rm=1, self.tau_m * self.dt = 1.25\n",
      "spike_generator(): i=382, t=323.125, Vm[i-1]=0.006462819061437888, neuron_input=0.0, self.Rm=1, self.tau_m * self.dt = 1.25\n",
      "spike_generator(): i=383, t=323.25, Vm[i-1]=0.006382033823169914, neuron_input=0.0, self.Rm=1, self.tau_m * self.dt = 1.25\n",
      "spike_generator(): i=384, t=323.375, Vm[i-1]=0.0063022584003802895, neuron_input=0.0, self.Rm=1, self.tau_m * self.dt = 1.25\n",
      "spike_generator(): i=385, t=323.5, Vm[i-1]=0.006223480170375536, neuron_input=0.0, self.Rm=1, self.tau_m * self.dt = 1.25\n",
      "spike_generator(): i=386, t=323.625, Vm[i-1]=0.0061456866682458415, neuron_input=0.0, self.Rm=1, self.tau_m * self.dt = 1.25\n",
      "spike_generator(): i=387, t=323.75, Vm[i-1]=0.0060688655848927684, neuron_input=0.0, self.Rm=1, self.tau_m * self.dt = 1.25\n",
      "spike_generator(): i=388, t=323.875, Vm[i-1]=0.005993004765081609, neuron_input=0.0, self.Rm=1, self.tau_m * self.dt = 1.25\n",
      "spike_generator(): i=389, t=324.0, Vm[i-1]=0.0059180922055180885, neuron_input=0.0, self.Rm=1, self.tau_m * self.dt = 1.25\n",
      "spike_generator(): i=390, t=324.125, Vm[i-1]=0.005844116052949112, neuron_input=0.0, self.Rm=1, self.tau_m * self.dt = 1.25\n",
      "spike_generator(): i=391, t=324.25, Vm[i-1]=0.005771064602287248, neuron_input=0.0, self.Rm=1, self.tau_m * self.dt = 1.25\n",
      "spike_generator(): i=392, t=324.375, Vm[i-1]=0.005698926294758658, neuron_input=0.0, self.Rm=1, self.tau_m * self.dt = 1.25\n",
      "spike_generator(): i=393, t=324.5, Vm[i-1]=0.005627689716074175, neuron_input=0.0, self.Rm=1, self.tau_m * self.dt = 1.25\n",
      "spike_generator(): i=394, t=324.625, Vm[i-1]=0.0055573435946232475, neuron_input=0.0, self.Rm=1, self.tau_m * self.dt = 1.25\n",
      "spike_generator(): i=395, t=324.75, Vm[i-1]=0.005487876799690457, neuron_input=0.0, self.Rm=1, self.tau_m * self.dt = 1.25\n",
      "spike_generator(): i=396, t=324.875, Vm[i-1]=0.005419278339694326, neuron_input=0.0, self.Rm=1, self.tau_m * self.dt = 1.25\n",
      "spike_generator(): i=397, t=325.0, Vm[i-1]=0.005351537360448147, neuron_input=0.0, self.Rm=1, self.tau_m * self.dt = 1.25\n",
      "spike_generator(): i=398, t=325.125, Vm[i-1]=0.0052846431434425455, neuron_input=0.0, self.Rm=1, self.tau_m * self.dt = 1.25\n",
      "spike_generator(): i=399, t=325.25, Vm[i-1]=0.005218585104149514, neuron_input=0.0, self.Rm=1, self.tau_m * self.dt = 1.25\n",
      "spike_generator(): i=400, t=325.375, Vm[i-1]=0.005153352790347645, neuron_input=0.0, self.Rm=1, self.tau_m * self.dt = 1.25\n",
      "Neuron.spike_generator.exit_state(Vm=0.005088935880468299 at iteration i=400, time=325.5)\n"
     ]
    }
   ],
   "source": [
    "neuron2_input = neuron_output\n",
    "neuron2_time = np.zeros(len(neuron_time))\n",
    "neuron2_Vm = np.zeros(len(neuron_Vm))\n",
    "neuron2_output = np.zeros(len(neuron_output))\n",
    "#for time_step in range(20):   #(len(neuron_time)):\n",
    "#print (time_step)\n",
    "t, v, o = neuron.spike_generator(neuron2_input, debug=True)   #[time_step], duration=0.25)\n",
    "neuron2_time = np.append(neuron2_time,t)\n",
    "neuron2_Vm = np.append(neuron2_Vm,v)\n",
    "neuron2_output = np.append(neuron2_output, o)"
   ]
  },
  {
   "cell_type": "code",
   "execution_count": 239,
   "metadata": {
    "collapsed": true
   },
   "outputs": [],
   "source": [
    "start_time = 150\n",
    "end_time = 300"
   ]
  },
  {
   "cell_type": "code",
   "execution_count": 240,
   "metadata": {},
   "outputs": [
    {
     "data": {
      "image/png": "[encoded data removed]",
      "text/plain": [
       "<matplotlib.figure.Figure at 0x11546de80>"
      ]
     },
     "metadata": {},
     "output_type": "display_data"
    },
    {
     "data": {
      "image/png": "[encoded data removed]",
      "text/plain": [
       "<matplotlib.figure.Figure at 0x11546dba8>"
      ]
     },
     "metadata": {},
     "output_type": "display_data"
    },
    {
     "data": {
      "image/png": "[encoded data removed]",
      "text/plain": [
       "<matplotlib.figure.Figure at 0x11546d6d8>"
      ]
     },
     "metadata": {},
     "output_type": "display_data"
    }
   ],
   "source": [
    "plot_spikes(neuron_time[start_time:end_time], neuron_output[start_time:end_time], neuron2.type, neuron_id = \"0\")\n",
    "plot_membrane_potential(neuron2_time[start_time:end_time], neuron2_Vm[start_time:end_time], neuron2.type, neuron_id = \"0\")\n",
    "plot_spikes(neuron2_time[start_time:end_time], neuron2_output[start_time:end_time], neuron2.type, neuron_id = \"0\")"
   ]
  },
  {
   "cell_type": "code",
   "execution_count": null,
   "metadata": {
    "collapsed": true
   },
   "outputs": [],
   "source": []
  },
  {
   "cell_type": "code",
   "execution_count": null,
   "metadata": {
    "collapsed": true
   },
   "outputs": [],
   "source": []
  }
 ],
 "metadata": {
  "kernelspec": {
   "display_name": "Python 3",
   "language": "python",
   "name": "python3"
  },
  "language_info": {
   "codemirror_mode": {
    "name": "ipython",
    "version": 3
   },
   "file_extension": ".py",
   "mimetype": "text/x-python",
   "name": "python",
   "nbconvert_exporter": "python",
   "pygments_lexer": "ipython3",
   "version": "3.6.1"
  }
 },
 "nbformat": 4,
 "nbformat_minor": 2
}
