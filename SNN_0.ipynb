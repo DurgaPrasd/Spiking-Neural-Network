{
 "cells": [
  {
   "cell_type": "markdown",
   "metadata": {},
   "source": [
    "# SNN_0\n",
    "\n",
    "This code is designed to demo the use of a Spiking Neural Network to propogate spikes between neurons. At this stage there is no learning involved, it's purely about propogating spikes between LIF neurons.\n",
    "\n",
    "More biologically plausible neurons and learning will be introduced later."
   ]
  },
  {
   "cell_type": "markdown",
   "metadata": {},
   "source": [
    "### Set up the environment"
   ]
  },
  {
   "cell_type": "code",
   "execution_count": 2,
   "metadata": {
    "collapsed": true
   },
   "outputs": [],
   "source": [
    "import numpy as np\n",
    "from mnist import MNIST   \n",
    "import cv2\n",
    "import matplotlib.pyplot as plt\n",
    "%matplotlib inline"
   ]
  },
  {
   "cell_type": "code",
   "execution_count": 3,
   "metadata": {
    "collapsed": true
   },
   "outputs": [],
   "source": [
    "duration = 50        # Length of each time period (ms)"
   ]
  },
  {
   "cell_type": "markdown",
   "metadata": {},
   "source": [
    "### Utility functions"
   ]
  },
  {
   "cell_type": "code",
   "execution_count": 75,
   "metadata": {},
   "outputs": [],
   "source": [
    "def plot_neuron_behaviour(time, Vm, neuron_type, neuron_id, y_title):\n",
    "    plt.plot(time,Vm)\n",
    "    plt.title('{} @ {}'.format(neuron_type, neuron_id))\n",
    "    plt.ylabel(y_title)\n",
    "    plt.xlabel('Time (msec)')\n",
    "    plt.ylim([0,2])\n",
    "    plt.show()"
   ]
  },
  {
   "cell_type": "code",
   "execution_count": 76,
   "metadata": {
    "collapsed": true
   },
   "outputs": [],
   "source": [
    "def plot_membrane_potential(time, Vm, neuron_type, neuron_id = 0):\n",
    "    plot_neuron_behaviour(time, Vm, neuron_type, neuron_id, y_title = 'Membrane potential (V)')\n",
    "\n",
    "def plot_spikes(time, Vm, neuron_type, neuron_id = 0):\n",
    "    plot_neuron_behaviour(time, Vm, neuron_type, neuron_id, y_title = 'Spike (V)')"
   ]
  },
  {
   "cell_type": "markdown",
   "metadata": {},
   "source": [
    "### Create a basic neuron class\n",
    "\n",
    "Use LIF neuron for now, this can be made more complex over time.\n",
    "\n",
    "Based on http://neurdon.wpengine.com/2011/01/19/neural-modeling-with-python-part-1/"
   ]
  },
  {
   "cell_type": "code",
   "execution_count": 201,
   "metadata": {},
   "outputs": [],
   "source": [
    "class Neuron():\n",
    "    def __init__(self):\n",
    "        # Simulation config (may not all be needed!!)\n",
    "        #self.T        = 50          # total time to sumulate (msec)\n",
    "        self.dt       = 0.125       # simulation time step\n",
    "        #self.time     = np.arange(0, T+dt, dt) # Time array\n",
    "        self.t_rest   = 0           # initial refractory time\n",
    "        \n",
    "        #LIF Properties \n",
    "        #self.Vm       = np.zeros(len(time)) # potential (V) trace over time\n",
    "        self.Vm       = 0                # Initial potential (mV)\n",
    "        self.output   = 0                # Neuron output\n",
    "        self.t        = 0                # Neuron time step\n",
    "        self.Rm       = 1                # Resistance (kOhm)\n",
    "        self.Cm       = 10               # Capacitance (uF)\n",
    "        self.tau_m    = self.Rm * self.Cm # Time constant\n",
    "        self.tau_ref  = 4                # refractory period (ms)\n",
    "        self.Vth      = 0.75             # = 1  #spike threshold\n",
    "        self.V_spike  = 0.5              # spike delta (V)\n",
    "        self.type     = 'Leaky Integrate and Fire'\n",
    "    \n",
    "    def spike_generator(self, neuron_input, debug=False):\n",
    "        duration = len(neuron_input)\n",
    "        if debug:\n",
    "            print ('spike_generator(): duration = {}'.format(duration))\n",
    "        #time = np.arange(self.t, self.t+duration+self.dt, self.dt)\n",
    "        time = np.arange(self.t, self.t+duration)   #, self.dt)        \n",
    "        Vm = np.zeros(duration)  #len(time)) # potential (V) trace over time\n",
    "        output = np.zeros(duration)  #len(time))\n",
    "        Vm[-1] = self.Vm   # Vm[0] doesn't work due to the equation below starting with [i-1] when i=0\n",
    "        if debug:\n",
    "            print ('Neuron.spike_generator.initial_state(input={}, duration={}, Vm={}, t={})'\n",
    "               .format(neuron_input, duration, self.Vm, self.t))\n",
    "        #for i,t in enumerate(time):\n",
    "        for i in range(duration):\n",
    "            t = self.t   # Hacky!! \n",
    "            if t > self.t_rest:\n",
    "                Vm[i] = Vm[i-1] + (-Vm[i-1] + neuron_input[i-1]*self.Rm) / self.tau_m * self.dt\n",
    "                if debug:\n",
    "                    print('spike_generator(): i={}, t={}, Vm[i-1]={}, neuron_input={}, self.Rm={}, self.tau_m * self.dt = {}'\n",
    "                          .format(i,t, Vm[i-1], neuron_input[i-1], self.Rm, self.tau_m * self.dt))\n",
    "                if Vm[i] >= self.Vth:\n",
    "                    #Vm[i] += self.V_spike\n",
    "                    output[i] = 1\n",
    "                    self.t_rest = t + self.tau_ref\n",
    "                    if debug:\n",
    "                        print ('*** Neuron.spike_generator.spike=(self.t_rest={}, t={}, self.tau_ref={})'\n",
    "                           .format(self.t_rest, t, self.tau_ref))\n",
    "\n",
    "            # Save state\n",
    "            self.Vm = Vm[i]\n",
    "            self.output = output[i]\n",
    "            self.t += self.dt\n",
    "        if debug:\n",
    "            print ('Neuron.spike_generator.exit_state(Vm={} at iteration i={}, time={})'\n",
    "                   .format(self.Vm, i, self.t))\n",
    "        return time, Vm, output"
   ]
  },
  {
   "cell_type": "markdown",
   "metadata": {},
   "source": [
    "* Assume a consistent/single input value for now"
   ]
  },
  {
   "cell_type": "code",
   "execution_count": 202,
   "metadata": {},
   "outputs": [],
   "source": [
    "T         = 50    # total time to sumulate (msec)\n",
    "dt        = 0.125 # Simulation timestep\n",
    "time      = int(T / dt)\n",
    "inpt      = 0.9   # Neuron input voltage\n",
    "neuron_input=np.full((time),inpt)"
   ]
  },
  {
   "cell_type": "code",
   "execution_count": 203,
   "metadata": {},
   "outputs": [
    {
     "name": "stdout",
     "output_type": "stream",
     "text": [
      "input: time=400\n"
     ]
    }
   ],
   "source": [
    "print('input: time={}'.format(time))"
   ]
  },
  {
   "cell_type": "code",
   "execution_count": 204,
   "metadata": {
    "collapsed": true
   },
   "outputs": [],
   "source": [
    "neuron = Neuron()"
   ]
  },
  {
   "cell_type": "code",
   "execution_count": 205,
   "metadata": {
    "scrolled": false
   },
   "outputs": [],
   "source": [
    "neuron_time = np.zeros(1)\n",
    "neuron_Vm = np.zeros(1)\n",
    "neuron_output = np.zeros(1)\n",
    "#for time_step in range (5):\n",
    "t, v, o = neuron.spike_generator(neuron_input)\n",
    "neuron_time = np.append(neuron_time,t)\n",
    "neuron_Vm = np.append(neuron_Vm,v)\n",
    "neuron_output = np.append(neuron_output, o)\n",
    "    "
   ]
  },
  {
   "cell_type": "code",
   "execution_count": 206,
   "metadata": {},
   "outputs": [
    {
     "name": "stdout",
     "output_type": "stream",
     "text": [
      "(401,)\n"
     ]
    }
   ],
   "source": [
    "print (neuron_time.shape)"
   ]
  },
  {
   "cell_type": "code",
   "execution_count": 207,
   "metadata": {},
   "outputs": [
    {
     "data": {
      "image/png": "[encoded data removed]",
      "text/plain": [
       "<matplotlib.figure.Figure at 0x11560ef98>"
      ]
     },
     "metadata": {},
     "output_type": "display_data"
    },
    {
     "data": {
      "image/png": "[encoded data removed]",
      "text/plain": [
       "<matplotlib.figure.Figure at 0x1156f62b0>"
      ]
     },
     "metadata": {},
     "output_type": "display_data"
    }
   ],
   "source": [
    "plot_membrane_potential(neuron_time, neuron_Vm, neuron.type, neuron_id = \"0\")\n",
    "plot_spikes(neuron_time, neuron_output, neuron.type, neuron_id = \"0\")"
   ]
  },
  {
   "cell_type": "code",
   "execution_count": 213,
   "metadata": {
    "collapsed": true
   },
   "outputs": [],
   "source": [
    "neuron2 = Neuron()"
   ]
  },
  {
   "cell_type": "code",
   "execution_count": 214,
   "metadata": {},
   "outputs": [
    {
     "name": "stdout",
     "output_type": "stream",
     "text": [
      "(401,)\n",
      "(401,)\n",
      "(401,)\n"
     ]
    }
   ],
   "source": [
    "neuron2_time = np.zeros(len(neuron_time))\n",
    "print (neuron2_time.shape)\n",
    "neuron2_Vm = np.zeros(len(neuron_Vm))\n",
    "print (neuron2_Vm.shape)\n",
    "neuron2_output = np.zeros(len(neuron_output))\n",
    "print (neuron2_output.shape)"
   ]
  },
  {
   "cell_type": "code",
   "execution_count": 215,
   "metadata": {},
   "outputs": [
    {
     "name": "stdout",
     "output_type": "stream",
     "text": [
      "spike_generator(): duration = 401\n",
      "Neuron.spike_generator.initial_state(input=[ 0.  0.  0.  0.  0.  0.  0.  0.  0.  0.  0.  0.  0.  0.  0.  0.  0.  0.\n",
      "  0.  0.  0.  0.  0.  0.  0.  0.  0.  0.  0.  0.  0.  0.  0.  0.  0.  0.\n",
      "  0.  0.  0.  0.  0.  0.  0.  0.  0.  0.  0.  0.  0.  0.  0.  0.  0.  0.\n",
      "  0.  0.  0.  0.  0.  0.  0.  0.  0.  0.  0.  0.  0.  0.  0.  0.  0.  0.\n",
      "  0.  0.  0.  0.  0.  0.  0.  0.  0.  0.  0.  0.  0.  0.  0.  0.  0.  0.\n",
      "  0.  0.  0.  0.  0.  0.  0.  0.  0.  0.  0.  0.  0.  0.  0.  0.  0.  0.\n",
      "  0.  0.  0.  0.  0.  0.  0.  0.  0.  0.  0.  0.  0.  0.  0.  0.  0.  0.\n",
      "  0.  0.  0.  0.  0.  0.  0.  0.  0.  0.  0.  0.  0.  0.  0.  0.  0.  0.\n",
      "  1.  0.  0.  0.  0.  0.  0.  0.  0.  0.  0.  0.  0.  0.  0.  0.  0.  0.\n",
      "  0.  0.  0.  0.  0.  0.  0.  0.  0.  0.  0.  0.  0.  0.  0.  0.  0.  0.\n",
      "  0.  0.  0.  0.  0.  0.  0.  0.  0.  0.  0.  0.  0.  0.  0.  0.  0.  0.\n",
      "  0.  0.  0.  0.  0.  0.  0.  0.  0.  0.  0.  0.  0.  0.  0.  0.  0.  0.\n",
      "  0.  0.  0.  0.  0.  0.  0.  0.  0.  0.  0.  0.  0.  0.  0.  0.  0.  0.\n",
      "  0.  0.  0.  0.  0.  0.  0.  0.  0.  0.  0.  0.  0.  0.  0.  0.  0.  0.\n",
      "  0.  0.  0.  0.  0.  0.  0.  0.  0.  0.  0.  0.  0.  0.  0.  0.  0.  0.\n",
      "  0.  0.  0.  0.  0.  0.  0.  0.  0.  0.  0.  0.  0.  0.  0.  0.  0.  0.\n",
      "  0.  0.  0.  0.  0.  0.  0.  0.  0.  0.  0.  0.  0.  0.  0.  0.  0.  0.\n",
      "  0.  0.  0.  0.  0.  0.  0.  0.  0.  0.  0.  0.  0.  1.  0.  0.  0.  0.\n",
      "  0.  0.  0.  0.  0.  0.  0.  0.  0.  0.  0.  0.  0.  0.  0.  0.  0.  0.\n",
      "  0.  0.  0.  0.  0.  0.  0.  0.  0.  0.  0.  0.  0.  0.  0.  0.  0.  0.\n",
      "  0.  0.  0.  0.  0.  0.  0.  0.  0.  0.  0.  0.  0.  0.  0.  0.  0.  0.\n",
      "  0.  0.  0.  0.  0.  0.  0.  0.  0.  0.  0.  0.  0.  0.  0.  0.  0.  0.\n",
      "  0.  0.  0.  0.  0.], duration=401, Vm=0.0051252114634607925, t=150.25)\n",
      "spike_generator(): i=0, t=150.25, Vm[i-1]=0.0051252114634607925, neuron_input=0.0, self.Rm=1, self.tau_m * self.dt = 1.25\n",
      "spike_generator(): i=1, t=150.375, Vm[i-1]=0.005061146320167533, neuron_input=0.0, self.Rm=1, self.tau_m * self.dt = 1.25\n",
      "spike_generator(): i=2, t=150.5, Vm[i-1]=0.004997881991165439, neuron_input=0.0, self.Rm=1, self.tau_m * self.dt = 1.25\n",
      "spike_generator(): i=3, t=150.625, Vm[i-1]=0.004935408466275871, neuron_input=0.0, self.Rm=1, self.tau_m * self.dt = 1.25\n",
      "spike_generator(): i=4, t=150.75, Vm[i-1]=0.004873715860447422, neuron_input=0.0, self.Rm=1, self.tau_m * self.dt = 1.25\n",
      "spike_generator(): i=5, t=150.875, Vm[i-1]=0.00481279441219183, neuron_input=0.0, self.Rm=1, self.tau_m * self.dt = 1.25\n",
      "spike_generator(): i=6, t=151.0, Vm[i-1]=0.004752634482039432, neuron_input=0.0, self.Rm=1, self.tau_m * self.dt = 1.25\n",
      "spike_generator(): i=7, t=151.125, Vm[i-1]=0.004693226551013939, neuron_input=0.0, self.Rm=1, self.tau_m * self.dt = 1.25\n",
      "spike_generator(): i=8, t=151.25, Vm[i-1]=0.0046345612191262655, neuron_input=0.0, self.Rm=1, self.tau_m * self.dt = 1.25\n",
      "spike_generator(): i=9, t=151.375, Vm[i-1]=0.004576629203887187, neuron_input=0.0, self.Rm=1, self.tau_m * self.dt = 1.25\n",
      "spike_generator(): i=10, t=151.5, Vm[i-1]=0.004519421338838597, neuron_input=0.0, self.Rm=1, self.tau_m * self.dt = 1.25\n",
      "spike_generator(): i=11, t=151.625, Vm[i-1]=0.004462928572103115, neuron_input=0.0, self.Rm=1, self.tau_m * self.dt = 1.25\n",
      "spike_generator(): i=12, t=151.75, Vm[i-1]=0.004407141964951826, neuron_input=0.0, self.Rm=1, self.tau_m * self.dt = 1.25\n",
      "spike_generator(): i=13, t=151.875, Vm[i-1]=0.004352052690389928, neuron_input=0.0, self.Rm=1, self.tau_m * self.dt = 1.25\n",
      "spike_generator(): i=14, t=152.0, Vm[i-1]=0.004297652031760054, neuron_input=0.0, self.Rm=1, self.tau_m * self.dt = 1.25\n",
      "spike_generator(): i=15, t=152.125, Vm[i-1]=0.004243931381363053, neuron_input=0.0, self.Rm=1, self.tau_m * self.dt = 1.25\n",
      "spike_generator(): i=16, t=152.25, Vm[i-1]=0.0041908822390960155, neuron_input=0.0, self.Rm=1, self.tau_m * self.dt = 1.25\n",
      "spike_generator(): i=17, t=152.375, Vm[i-1]=0.004138496211107315, neuron_input=0.0, self.Rm=1, self.tau_m * self.dt = 1.25\n",
      "spike_generator(): i=18, t=152.5, Vm[i-1]=0.004086765008468473, neuron_input=0.0, self.Rm=1, self.tau_m * self.dt = 1.25\n",
      "spike_generator(): i=19, t=152.625, Vm[i-1]=0.0040356804458626175, neuron_input=0.0, self.Rm=1, self.tau_m * self.dt = 1.25\n",
      "spike_generator(): i=20, t=152.75, Vm[i-1]=0.003985234440289335, neuron_input=0.0, self.Rm=1, self.tau_m * self.dt = 1.25\n",
      "spike_generator(): i=21, t=152.875, Vm[i-1]=0.003935419009785718, neuron_input=0.0, self.Rm=1, self.tau_m * self.dt = 1.25\n",
      "spike_generator(): i=22, t=153.0, Vm[i-1]=0.003886226272163397, neuron_input=0.0, self.Rm=1, self.tau_m * self.dt = 1.25\n",
      "spike_generator(): i=23, t=153.125, Vm[i-1]=0.0038376484437613544, neuron_input=0.0, self.Rm=1, self.tau_m * self.dt = 1.25\n",
      "spike_generator(): i=24, t=153.25, Vm[i-1]=0.0037896778382143373, neuron_input=0.0, self.Rm=1, self.tau_m * self.dt = 1.25\n",
      "spike_generator(): i=25, t=153.375, Vm[i-1]=0.0037423068652366583, neuron_input=0.0, self.Rm=1, self.tau_m * self.dt = 1.25\n",
      "spike_generator(): i=26, t=153.5, Vm[i-1]=0.0036955280294212, neuron_input=0.0, self.Rm=1, self.tau_m * self.dt = 1.25\n",
      "spike_generator(): i=27, t=153.625, Vm[i-1]=0.0036493339290534347, neuron_input=0.0, self.Rm=1, self.tau_m * self.dt = 1.25\n",
      "spike_generator(): i=28, t=153.75, Vm[i-1]=0.0036037172549402666, neuron_input=0.0, self.Rm=1, self.tau_m * self.dt = 1.25\n",
      "spike_generator(): i=29, t=153.875, Vm[i-1]=0.003558670789253513, neuron_input=0.0, self.Rm=1, self.tau_m * self.dt = 1.25\n",
      "spike_generator(): i=30, t=154.0, Vm[i-1]=0.003514187404387844, neuron_input=0.0, self.Rm=1, self.tau_m * self.dt = 1.25\n",
      "spike_generator(): i=31, t=154.125, Vm[i-1]=0.003470260061832996, neuron_input=0.0, self.Rm=1, self.tau_m * self.dt = 1.25\n",
      "spike_generator(): i=32, t=154.25, Vm[i-1]=0.0034268818110600834, neuron_input=0.0, self.Rm=1, self.tau_m * self.dt = 1.25\n",
      "spike_generator(): i=33, t=154.375, Vm[i-1]=0.003384045788421832, neuron_input=0.0, self.Rm=1, self.tau_m * self.dt = 1.25\n",
      "spike_generator(): i=34, t=154.5, Vm[i-1]=0.0033417452160665593, neuron_input=0.0, self.Rm=1, self.tau_m * self.dt = 1.25\n",
      "spike_generator(): i=35, t=154.625, Vm[i-1]=0.003299973400865727, neuron_input=0.0, self.Rm=1, self.tau_m * self.dt = 1.25\n",
      "spike_generator(): i=36, t=154.75, Vm[i-1]=0.0032587237333549057, neuron_input=0.0, self.Rm=1, self.tau_m * self.dt = 1.25\n",
      "spike_generator(): i=37, t=154.875, Vm[i-1]=0.0032179896866879696, neuron_input=0.0, self.Rm=1, self.tau_m * self.dt = 1.25\n",
      "spike_generator(): i=38, t=155.0, Vm[i-1]=0.00317776481560437, neuron_input=0.0, self.Rm=1, self.tau_m * self.dt = 1.25\n",
      "spike_generator(): i=39, t=155.125, Vm[i-1]=0.0031380427554093156, neuron_input=0.0, self.Rm=1, self.tau_m * self.dt = 1.25\n",
      "spike_generator(): i=40, t=155.25, Vm[i-1]=0.003098817220966699, neuron_input=0.0, self.Rm=1, self.tau_m * self.dt = 1.25\n",
      "spike_generator(): i=41, t=155.375, Vm[i-1]=0.0030600820057046156, neuron_input=0.0, self.Rm=1, self.tau_m * self.dt = 1.25\n",
      "spike_generator(): i=42, t=155.5, Vm[i-1]=0.0030218309806333077, neuron_input=0.0, self.Rm=1, self.tau_m * self.dt = 1.25\n",
      "spike_generator(): i=43, t=155.625, Vm[i-1]=0.0029840580933753916, neuron_input=0.0, self.Rm=1, self.tau_m * self.dt = 1.25\n",
      "spike_generator(): i=44, t=155.75, Vm[i-1]=0.002946757367208199, neuron_input=0.0, self.Rm=1, self.tau_m * self.dt = 1.25\n",
      "spike_generator(): i=45, t=155.875, Vm[i-1]=0.0029099229001180965, neuron_input=0.0, self.Rm=1, self.tau_m * self.dt = 1.25\n",
      "spike_generator(): i=46, t=156.0, Vm[i-1]=0.0028735488638666202, neuron_input=0.0, self.Rm=1, self.tau_m * self.dt = 1.25\n",
      "spike_generator(): i=47, t=156.125, Vm[i-1]=0.0028376295030682875, neuron_input=0.0, self.Rm=1, self.tau_m * self.dt = 1.25\n",
      "spike_generator(): i=48, t=156.25, Vm[i-1]=0.0028021591342799338, neuron_input=0.0, self.Rm=1, self.tau_m * self.dt = 1.25\n",
      "spike_generator(): i=49, t=156.375, Vm[i-1]=0.0027671321451014346, neuron_input=0.0, self.Rm=1, self.tau_m * self.dt = 1.25\n",
      "spike_generator(): i=50, t=156.5, Vm[i-1]=0.0027325429932876667, neuron_input=0.0, self.Rm=1, self.tau_m * self.dt = 1.25\n",
      "spike_generator(): i=51, t=156.625, Vm[i-1]=0.0026983862058715708, neuron_input=0.0, self.Rm=1, self.tau_m * self.dt = 1.25\n",
      "spike_generator(): i=52, t=156.75, Vm[i-1]=0.0026646563782981763, neuron_input=0.0, self.Rm=1, self.tau_m * self.dt = 1.25\n",
      "spike_generator(): i=53, t=156.875, Vm[i-1]=0.002631348173569449, neuron_input=0.0, self.Rm=1, self.tau_m * self.dt = 1.25\n",
      "spike_generator(): i=54, t=157.0, Vm[i-1]=0.002598456321399831, neuron_input=0.0, self.Rm=1, self.tau_m * self.dt = 1.25\n",
      "spike_generator(): i=55, t=157.125, Vm[i-1]=0.002565975617382333, neuron_input=0.0, self.Rm=1, self.tau_m * self.dt = 1.25\n",
      "spike_generator(): i=56, t=157.25, Vm[i-1]=0.002533900922165054, neuron_input=0.0, self.Rm=1, self.tau_m * self.dt = 1.25\n",
      "spike_generator(): i=57, t=157.375, Vm[i-1]=0.002502227160637991, neuron_input=0.0, self.Rm=1, self.tau_m * self.dt = 1.25\n",
      "spike_generator(): i=58, t=157.5, Vm[i-1]=0.002470949321130016, neuron_input=0.0, self.Rm=1, self.tau_m * self.dt = 1.25\n",
      "spike_generator(): i=59, t=157.625, Vm[i-1]=0.0024400624546158907, neuron_input=0.0, self.Rm=1, self.tau_m * self.dt = 1.25\n",
      "spike_generator(): i=60, t=157.75, Vm[i-1]=0.002409561673933192, neuron_input=0.0, self.Rm=1, self.tau_m * self.dt = 1.25\n",
      "spike_generator(): i=61, t=157.875, Vm[i-1]=0.002379442153009027, neuron_input=0.0, self.Rm=1, self.tau_m * self.dt = 1.25\n",
      "spike_generator(): i=62, t=158.0, Vm[i-1]=0.0023496991260964144, neuron_input=0.0, self.Rm=1, self.tau_m * self.dt = 1.25\n",
      "spike_generator(): i=63, t=158.125, Vm[i-1]=0.002320327887020209, neuron_input=0.0, self.Rm=1, self.tau_m * self.dt = 1.25\n",
      "spike_generator(): i=64, t=158.25, Vm[i-1]=0.0022913237884324565, neuron_input=0.0, self.Rm=1, self.tau_m * self.dt = 1.25\n",
      "spike_generator(): i=65, t=158.375, Vm[i-1]=0.002262682241077051, neuron_input=0.0, self.Rm=1, self.tau_m * self.dt = 1.25\n",
      "spike_generator(): i=66, t=158.5, Vm[i-1]=0.0022343987130635876, neuron_input=0.0, self.Rm=1, self.tau_m * self.dt = 1.25\n",
      "spike_generator(): i=67, t=158.625, Vm[i-1]=0.0022064687291502927, neuron_input=0.0, self.Rm=1, self.tau_m * self.dt = 1.25\n",
      "spike_generator(): i=68, t=158.75, Vm[i-1]=0.002178887870035914, neuron_input=0.0, self.Rm=1, self.tau_m * self.dt = 1.25\n",
      "spike_generator(): i=69, t=158.875, Vm[i-1]=0.002151651771660465, neuron_input=0.0, self.Rm=1, self.tau_m * self.dt = 1.25\n",
      "spike_generator(): i=70, t=159.0, Vm[i-1]=0.0021247561245147095, neuron_input=0.0, self.Rm=1, self.tau_m * self.dt = 1.25\n",
      "spike_generator(): i=71, t=159.125, Vm[i-1]=0.0020981966729582756, neuron_input=0.0, self.Rm=1, self.tau_m * self.dt = 1.25\n",
      "spike_generator(): i=72, t=159.25, Vm[i-1]=0.0020719692145462973, neuron_input=0.0, self.Rm=1, self.tau_m * self.dt = 1.25\n",
      "spike_generator(): i=73, t=159.375, Vm[i-1]=0.0020460695993644684, neuron_input=0.0, self.Rm=1, self.tau_m * self.dt = 1.25\n",
      "spike_generator(): i=74, t=159.5, Vm[i-1]=0.0020204937293724127, neuron_input=0.0, self.Rm=1, self.tau_m * self.dt = 1.25\n",
      "spike_generator(): i=75, t=159.625, Vm[i-1]=0.0019952375577552573, neuron_input=0.0, self.Rm=1, self.tau_m * self.dt = 1.25\n",
      "spike_generator(): i=76, t=159.75, Vm[i-1]=0.0019702970882833166, neuron_input=0.0, self.Rm=1, self.tau_m * self.dt = 1.25\n",
      "spike_generator(): i=77, t=159.875, Vm[i-1]=0.001945668374679775, neuron_input=0.0, self.Rm=1, self.tau_m * self.dt = 1.25\n",
      "spike_generator(): i=78, t=160.0, Vm[i-1]=0.001921347519996278, neuron_input=0.0, self.Rm=1, self.tau_m * self.dt = 1.25\n",
      "spike_generator(): i=79, t=160.125, Vm[i-1]=0.0018973306759963245, neuron_input=0.0, self.Rm=1, self.tau_m * self.dt = 1.25\n",
      "spike_generator(): i=80, t=160.25, Vm[i-1]=0.0018736140425463705, neuron_input=0.0, self.Rm=1, self.tau_m * self.dt = 1.25\n",
      "spike_generator(): i=81, t=160.375, Vm[i-1]=0.0018501938670145409, neuron_input=0.0, self.Rm=1, self.tau_m * self.dt = 1.25\n",
      "spike_generator(): i=82, t=160.5, Vm[i-1]=0.0018270664436768592, neuron_input=0.0, self.Rm=1, self.tau_m * self.dt = 1.25\n",
      "spike_generator(): i=83, t=160.625, Vm[i-1]=0.0018042281131308985, neuron_input=0.0, self.Rm=1, self.tau_m * self.dt = 1.25\n",
      "spike_generator(): i=84, t=160.75, Vm[i-1]=0.0017816752617167623, neuron_input=0.0, self.Rm=1, self.tau_m * self.dt = 1.25\n",
      "spike_generator(): i=85, t=160.875, Vm[i-1]=0.0017594043209453029, neuron_input=0.0, self.Rm=1, self.tau_m * self.dt = 1.25\n",
      "spike_generator(): i=86, t=161.0, Vm[i-1]=0.0017374117669334867, neuron_input=0.0, self.Rm=1, self.tau_m * self.dt = 1.25\n",
      "spike_generator(): i=87, t=161.125, Vm[i-1]=0.001715694119846818, neuron_input=0.0, self.Rm=1, self.tau_m * self.dt = 1.25\n",
      "spike_generator(): i=88, t=161.25, Vm[i-1]=0.0016942479433487328, neuron_input=0.0, self.Rm=1, self.tau_m * self.dt = 1.25\n",
      "spike_generator(): i=89, t=161.375, Vm[i-1]=0.0016730698440568736, neuron_input=0.0, self.Rm=1, self.tau_m * self.dt = 1.25\n",
      "spike_generator(): i=90, t=161.5, Vm[i-1]=0.0016521564710061626, neuron_input=0.0, self.Rm=1, self.tau_m * self.dt = 1.25\n",
      "spike_generator(): i=91, t=161.625, Vm[i-1]=0.0016315045151185856, neuron_input=0.0, self.Rm=1, self.tau_m * self.dt = 1.25\n",
      "spike_generator(): i=92, t=161.75, Vm[i-1]=0.0016111107086796033, neuron_input=0.0, self.Rm=1, self.tau_m * self.dt = 1.25\n",
      "spike_generator(): i=93, t=161.875, Vm[i-1]=0.0015909718248211082, neuron_input=0.0, self.Rm=1, self.tau_m * self.dt = 1.25\n",
      "spike_generator(): i=94, t=162.0, Vm[i-1]=0.0015710846770108442, neuron_input=0.0, self.Rm=1, self.tau_m * self.dt = 1.25\n",
      "spike_generator(): i=95, t=162.125, Vm[i-1]=0.0015514461185482087, neuron_input=0.0, self.Rm=1, self.tau_m * self.dt = 1.25\n",
      "spike_generator(): i=96, t=162.25, Vm[i-1]=0.001532053042066356, neuron_input=0.0, self.Rm=1, self.tau_m * self.dt = 1.25\n",
      "spike_generator(): i=97, t=162.375, Vm[i-1]=0.0015129023790405266, neuron_input=0.0, self.Rm=1, self.tau_m * self.dt = 1.25\n",
      "spike_generator(): i=98, t=162.5, Vm[i-1]=0.00149399109930252, neuron_input=0.0, self.Rm=1, self.tau_m * self.dt = 1.25\n",
      "spike_generator(): i=99, t=162.625, Vm[i-1]=0.0014753162105612385, neuron_input=0.0, self.Rm=1, self.tau_m * self.dt = 1.25\n",
      "spike_generator(): i=100, t=162.75, Vm[i-1]=0.001456874757929223, neuron_input=0.0, self.Rm=1, self.tau_m * self.dt = 1.25\n",
      "spike_generator(): i=101, t=162.875, Vm[i-1]=0.0014386638234551077, neuron_input=0.0, self.Rm=1, self.tau_m * self.dt = 1.25\n",
      "spike_generator(): i=102, t=163.0, Vm[i-1]=0.0014206805256619188, neuron_input=0.0, self.Rm=1, self.tau_m * self.dt = 1.25\n",
      "spike_generator(): i=103, t=163.125, Vm[i-1]=0.001402922019091145, neuron_input=0.0, self.Rm=1, self.tau_m * self.dt = 1.25\n",
      "spike_generator(): i=104, t=163.25, Vm[i-1]=0.0013853854938525056, neuron_input=0.0, self.Rm=1, self.tau_m * self.dt = 1.25\n",
      "spike_generator(): i=105, t=163.375, Vm[i-1]=0.0013680681751793492, neuron_input=0.0, self.Rm=1, self.tau_m * self.dt = 1.25\n",
      "spike_generator(): i=106, t=163.5, Vm[i-1]=0.0013509673229896073, neuron_input=0.0, self.Rm=1, self.tau_m * self.dt = 1.25\n",
      "spike_generator(): i=107, t=163.625, Vm[i-1]=0.0013340802314522372, neuron_input=0.0, self.Rm=1, self.tau_m * self.dt = 1.25\n",
      "spike_generator(): i=108, t=163.75, Vm[i-1]=0.0013174042285590843, neuron_input=0.0, self.Rm=1, self.tau_m * self.dt = 1.25\n",
      "spike_generator(): i=109, t=163.875, Vm[i-1]=0.0013009366757020958, neuron_input=0.0, self.Rm=1, self.tau_m * self.dt = 1.25\n",
      "spike_generator(): i=110, t=164.0, Vm[i-1]=0.0012846749672558197, neuron_input=0.0, self.Rm=1, self.tau_m * self.dt = 1.25\n",
      "spike_generator(): i=111, t=164.125, Vm[i-1]=0.0012686165301651218, neuron_input=0.0, self.Rm=1, self.tau_m * self.dt = 1.25\n",
      "spike_generator(): i=112, t=164.25, Vm[i-1]=0.001252758823538058, neuron_input=0.0, self.Rm=1, self.tau_m * self.dt = 1.25\n",
      "spike_generator(): i=113, t=164.375, Vm[i-1]=0.0012370993382438322, neuron_input=0.0, self.Rm=1, self.tau_m * self.dt = 1.25\n",
      "spike_generator(): i=114, t=164.5, Vm[i-1]=0.0012216355965157842, neuron_input=0.0, self.Rm=1, self.tau_m * self.dt = 1.25\n",
      "spike_generator(): i=115, t=164.625, Vm[i-1]=0.001206365151559337, neuron_input=0.0, self.Rm=1, self.tau_m * self.dt = 1.25\n",
      "spike_generator(): i=116, t=164.75, Vm[i-1]=0.0011912855871648452, neuron_input=0.0, self.Rm=1, self.tau_m * self.dt = 1.25\n",
      "spike_generator(): i=117, t=164.875, Vm[i-1]=0.0011763945173252847, neuron_input=0.0, self.Rm=1, self.tau_m * self.dt = 1.25\n",
      "spike_generator(): i=118, t=165.0, Vm[i-1]=0.0011616895858587186, neuron_input=0.0, self.Rm=1, self.tau_m * self.dt = 1.25\n",
      "spike_generator(): i=119, t=165.125, Vm[i-1]=0.0011471684660354846, neuron_input=0.0, self.Rm=1, self.tau_m * self.dt = 1.25\n",
      "spike_generator(): i=120, t=165.25, Vm[i-1]=0.001132828860210041, neuron_input=0.0, self.Rm=1, self.tau_m * self.dt = 1.25\n",
      "spike_generator(): i=121, t=165.375, Vm[i-1]=0.0011186684994574155, neuron_input=0.0, self.Rm=1, self.tau_m * self.dt = 1.25\n",
      "spike_generator(): i=122, t=165.5, Vm[i-1]=0.0011046851432141979, neuron_input=0.0, self.Rm=1, self.tau_m * self.dt = 1.25\n",
      "spike_generator(): i=123, t=165.625, Vm[i-1]=0.0010908765789240204, neuron_input=0.0, self.Rm=1, self.tau_m * self.dt = 1.25\n",
      "spike_generator(): i=124, t=165.75, Vm[i-1]=0.00107724062168747, neuron_input=0.0, self.Rm=1, self.tau_m * self.dt = 1.25\n",
      "spike_generator(): i=125, t=165.875, Vm[i-1]=0.0010637751139163766, neuron_input=0.0, self.Rm=1, self.tau_m * self.dt = 1.25\n",
      "spike_generator(): i=126, t=166.0, Vm[i-1]=0.001050477924992422, neuron_input=0.0, self.Rm=1, self.tau_m * self.dt = 1.25\n",
      "spike_generator(): i=127, t=166.125, Vm[i-1]=0.0010373469509300168, neuron_input=0.0, self.Rm=1, self.tau_m * self.dt = 1.25\n",
      "spike_generator(): i=128, t=166.25, Vm[i-1]=0.0010243801140433916, neuron_input=0.0, self.Rm=1, self.tau_m * self.dt = 1.25\n",
      "spike_generator(): i=129, t=166.375, Vm[i-1]=0.0010115753626178492, neuron_input=0.0, self.Rm=1, self.tau_m * self.dt = 1.25\n",
      "spike_generator(): i=130, t=166.5, Vm[i-1]=0.0009989306705851261, neuron_input=0.0, self.Rm=1, self.tau_m * self.dt = 1.25\n",
      "spike_generator(): i=131, t=166.625, Vm[i-1]=0.000986444037202812, neuron_input=0.0, self.Rm=1, self.tau_m * self.dt = 1.25\n",
      "spike_generator(): i=132, t=166.75, Vm[i-1]=0.0009741134867377768, neuron_input=0.0, self.Rm=1, self.tau_m * self.dt = 1.25\n",
      "spike_generator(): i=133, t=166.875, Vm[i-1]=0.0009619370681535546, neuron_input=0.0, self.Rm=1, self.tau_m * self.dt = 1.25\n",
      "spike_generator(): i=134, t=167.0, Vm[i-1]=0.0009499128548016351, neuron_input=0.0, self.Rm=1, self.tau_m * self.dt = 1.25\n",
      "spike_generator(): i=135, t=167.125, Vm[i-1]=0.0009380389441166146, neuron_input=0.0, self.Rm=1, self.tau_m * self.dt = 1.25\n",
      "spike_generator(): i=136, t=167.25, Vm[i-1]=0.0009263134573151569, neuron_input=0.0, self.Rm=1, self.tau_m * self.dt = 1.25\n",
      "spike_generator(): i=137, t=167.375, Vm[i-1]=0.0009147345390987174, neuron_input=0.0, self.Rm=1, self.tau_m * self.dt = 1.25\n",
      "spike_generator(): i=138, t=167.5, Vm[i-1]=0.0009033003573599835, neuron_input=0.0, self.Rm=1, self.tau_m * self.dt = 1.25\n",
      "spike_generator(): i=139, t=167.625, Vm[i-1]=0.0008920091028929838, neuron_input=0.0, self.Rm=1, self.tau_m * self.dt = 1.25\n",
      "spike_generator(): i=140, t=167.75, Vm[i-1]=0.0008808589891068215, neuron_input=0.0, self.Rm=1, self.tau_m * self.dt = 1.25\n",
      "spike_generator(): i=141, t=167.875, Vm[i-1]=0.0008698482517429863, neuron_input=0.0, self.Rm=1, self.tau_m * self.dt = 1.25\n",
      "spike_generator(): i=142, t=168.0, Vm[i-1]=0.0008589751485961989, neuron_input=0.0, self.Rm=1, self.tau_m * self.dt = 1.25\n",
      "spike_generator(): i=143, t=168.125, Vm[i-1]=0.0008482379592387464, neuron_input=0.0, self.Rm=1, self.tau_m * self.dt = 1.25\n",
      "spike_generator(): i=144, t=168.25, Vm[i-1]=0.0008376349847482621, neuron_input=0.0, self.Rm=1, self.tau_m * self.dt = 1.25\n",
      "spike_generator(): i=145, t=168.375, Vm[i-1]=0.0008271645474389088, neuron_input=1.0, self.Rm=1, self.tau_m * self.dt = 1.25\n",
      "spike_generator(): i=146, t=168.5, Vm[i-1]=0.013316824990595923, neuron_input=0.0, self.Rm=1, self.tau_m * self.dt = 1.25\n",
      "spike_generator(): i=147, t=168.625, Vm[i-1]=0.013150364678213474, neuron_input=0.0, self.Rm=1, self.tau_m * self.dt = 1.25\n",
      "spike_generator(): i=148, t=168.75, Vm[i-1]=0.012985985119735807, neuron_input=0.0, self.Rm=1, self.tau_m * self.dt = 1.25\n",
      "spike_generator(): i=149, t=168.875, Vm[i-1]=0.012823660305739108, neuron_input=0.0, self.Rm=1, self.tau_m * self.dt = 1.25\n",
      "spike_generator(): i=150, t=169.0, Vm[i-1]=0.01266336455191737, neuron_input=0.0, self.Rm=1, self.tau_m * self.dt = 1.25\n",
      "spike_generator(): i=151, t=169.125, Vm[i-1]=0.012505072495018402, neuron_input=0.0, self.Rm=1, self.tau_m * self.dt = 1.25\n",
      "spike_generator(): i=152, t=169.25, Vm[i-1]=0.012348759088830673, neuron_input=0.0, self.Rm=1, self.tau_m * self.dt = 1.25\n",
      "spike_generator(): i=153, t=169.375, Vm[i-1]=0.01219439960022029, neuron_input=0.0, self.Rm=1, self.tau_m * self.dt = 1.25\n",
      "spike_generator(): i=154, t=169.5, Vm[i-1]=0.012041969605217537, neuron_input=0.0, self.Rm=1, self.tau_m * self.dt = 1.25\n",
      "spike_generator(): i=155, t=169.625, Vm[i-1]=0.011891444985152318, neuron_input=0.0, self.Rm=1, self.tau_m * self.dt = 1.25\n",
      "spike_generator(): i=156, t=169.75, Vm[i-1]=0.011742801922837914, neuron_input=0.0, self.Rm=1, self.tau_m * self.dt = 1.25\n",
      "spike_generator(): i=157, t=169.875, Vm[i-1]=0.011596016898802441, neuron_input=0.0, self.Rm=1, self.tau_m * self.dt = 1.25\n",
      "spike_generator(): i=158, t=170.0, Vm[i-1]=0.01145106668756741, neuron_input=0.0, self.Rm=1, self.tau_m * self.dt = 1.25\n",
      "spike_generator(): i=159, t=170.125, Vm[i-1]=0.011307928353972818, neuron_input=0.0, self.Rm=1, self.tau_m * self.dt = 1.25\n",
      "spike_generator(): i=160, t=170.25, Vm[i-1]=0.011166579249548158, neuron_input=0.0, self.Rm=1, self.tau_m * self.dt = 1.25\n",
      "spike_generator(): i=161, t=170.375, Vm[i-1]=0.011026997008928806, neuron_input=0.0, self.Rm=1, self.tau_m * self.dt = 1.25\n",
      "spike_generator(): i=162, t=170.5, Vm[i-1]=0.010889159546317195, neuron_input=0.0, self.Rm=1, self.tau_m * self.dt = 1.25\n",
      "spike_generator(): i=163, t=170.625, Vm[i-1]=0.01075304505198823, neuron_input=0.0, self.Rm=1, self.tau_m * self.dt = 1.25\n",
      "spike_generator(): i=164, t=170.75, Vm[i-1]=0.010618631988838377, neuron_input=0.0, self.Rm=1, self.tau_m * self.dt = 1.25\n",
      "spike_generator(): i=165, t=170.875, Vm[i-1]=0.010485899088977898, neuron_input=0.0, self.Rm=1, self.tau_m * self.dt = 1.25\n",
      "spike_generator(): i=166, t=171.0, Vm[i-1]=0.010354825350365674, neuron_input=0.0, self.Rm=1, self.tau_m * self.dt = 1.25\n",
      "spike_generator(): i=167, t=171.125, Vm[i-1]=0.010225390033486104, neuron_input=0.0, self.Rm=1, self.tau_m * self.dt = 1.25\n",
      "spike_generator(): i=168, t=171.25, Vm[i-1]=0.010097572658067527, neuron_input=0.0, self.Rm=1, self.tau_m * self.dt = 1.25\n",
      "spike_generator(): i=169, t=171.375, Vm[i-1]=0.009971352999841683, neuron_input=0.0, self.Rm=1, self.tau_m * self.dt = 1.25\n",
      "spike_generator(): i=170, t=171.5, Vm[i-1]=0.009846711087343661, neuron_input=0.0, self.Rm=1, self.tau_m * self.dt = 1.25\n",
      "spike_generator(): i=171, t=171.625, Vm[i-1]=0.009723627198751866, neuron_input=0.0, self.Rm=1, self.tau_m * self.dt = 1.25\n",
      "spike_generator(): i=172, t=171.75, Vm[i-1]=0.009602081858767467, neuron_input=0.0, self.Rm=1, self.tau_m * self.dt = 1.25\n",
      "spike_generator(): i=173, t=171.875, Vm[i-1]=0.009482055835532873, neuron_input=0.0, self.Rm=1, self.tau_m * self.dt = 1.25\n",
      "spike_generator(): i=174, t=172.0, Vm[i-1]=0.009363530137588713, neuron_input=0.0, self.Rm=1, self.tau_m * self.dt = 1.25\n",
      "spike_generator(): i=175, t=172.125, Vm[i-1]=0.009246486010868854, neuron_input=0.0, self.Rm=1, self.tau_m * self.dt = 1.25\n",
      "spike_generator(): i=176, t=172.25, Vm[i-1]=0.009130904935732993, neuron_input=0.0, self.Rm=1, self.tau_m * self.dt = 1.25\n",
      "spike_generator(): i=177, t=172.375, Vm[i-1]=0.009016768624036331, neuron_input=0.0, self.Rm=1, self.tau_m * self.dt = 1.25\n",
      "spike_generator(): i=178, t=172.5, Vm[i-1]=0.008904059016235876, neuron_input=0.0, self.Rm=1, self.tau_m * self.dt = 1.25\n",
      "spike_generator(): i=179, t=172.625, Vm[i-1]=0.008792758278532927, neuron_input=0.0, self.Rm=1, self.tau_m * self.dt = 1.25\n",
      "spike_generator(): i=180, t=172.75, Vm[i-1]=0.008682848800051265, neuron_input=0.0, self.Rm=1, self.tau_m * self.dt = 1.25\n",
      "spike_generator(): i=181, t=172.875, Vm[i-1]=0.008574313190050625, neuron_input=0.0, self.Rm=1, self.tau_m * self.dt = 1.25\n",
      "spike_generator(): i=182, t=173.0, Vm[i-1]=0.008467134275174992, neuron_input=0.0, self.Rm=1, self.tau_m * self.dt = 1.25\n",
      "spike_generator(): i=183, t=173.125, Vm[i-1]=0.008361295096735305, neuron_input=0.0, self.Rm=1, self.tau_m * self.dt = 1.25\n",
      "spike_generator(): i=184, t=173.25, Vm[i-1]=0.008256778908026114, neuron_input=0.0, self.Rm=1, self.tau_m * self.dt = 1.25\n",
      "spike_generator(): i=185, t=173.375, Vm[i-1]=0.008153569171675788, neuron_input=0.0, self.Rm=1, self.tau_m * self.dt = 1.25\n",
      "spike_generator(): i=186, t=173.5, Vm[i-1]=0.00805164955702984, neuron_input=0.0, self.Rm=1, self.tau_m * self.dt = 1.25\n",
      "spike_generator(): i=187, t=173.625, Vm[i-1]=0.007951003937566967, neuron_input=0.0, self.Rm=1, self.tau_m * self.dt = 1.25\n",
      "spike_generator(): i=188, t=173.75, Vm[i-1]=0.007851616388347379, neuron_input=0.0, self.Rm=1, self.tau_m * self.dt = 1.25\n",
      "spike_generator(): i=189, t=173.875, Vm[i-1]=0.007753471183493037, neuron_input=0.0, self.Rm=1, self.tau_m * self.dt = 1.25\n",
      "spike_generator(): i=190, t=174.0, Vm[i-1]=0.007656552793699374, neuron_input=0.0, self.Rm=1, self.tau_m * self.dt = 1.25\n",
      "spike_generator(): i=191, t=174.125, Vm[i-1]=0.007560845883778132, neuron_input=0.0, self.Rm=1, self.tau_m * self.dt = 1.25\n",
      "spike_generator(): i=192, t=174.25, Vm[i-1]=0.007466335310230905, neuron_input=0.0, self.Rm=1, self.tau_m * self.dt = 1.25\n",
      "spike_generator(): i=193, t=174.375, Vm[i-1]=0.007373006118853019, neuron_input=0.0, self.Rm=1, self.tau_m * self.dt = 1.25\n",
      "spike_generator(): i=194, t=174.5, Vm[i-1]=0.007280843542367356, neuron_input=0.0, self.Rm=1, self.tau_m * self.dt = 1.25\n",
      "spike_generator(): i=195, t=174.625, Vm[i-1]=0.0071898329980877645, neuron_input=0.0, self.Rm=1, self.tau_m * self.dt = 1.25\n",
      "spike_generator(): i=196, t=174.75, Vm[i-1]=0.007099960085611668, neuron_input=0.0, self.Rm=1, self.tau_m * self.dt = 1.25\n",
      "spike_generator(): i=197, t=174.875, Vm[i-1]=0.0070112105845415214, neuron_input=0.0, self.Rm=1, self.tau_m * self.dt = 1.25\n",
      "spike_generator(): i=198, t=175.0, Vm[i-1]=0.006923570452234753, neuron_input=0.0, self.Rm=1, self.tau_m * self.dt = 1.25\n",
      "spike_generator(): i=199, t=175.125, Vm[i-1]=0.006837025821581818, neuron_input=0.0, self.Rm=1, self.tau_m * self.dt = 1.25\n",
      "spike_generator(): i=200, t=175.25, Vm[i-1]=0.006751562998812045, neuron_input=0.0, self.Rm=1, self.tau_m * self.dt = 1.25\n",
      "spike_generator(): i=201, t=175.375, Vm[i-1]=0.0066671684613268944, neuron_input=0.0, self.Rm=1, self.tau_m * self.dt = 1.25\n",
      "spike_generator(): i=202, t=175.5, Vm[i-1]=0.006583828855560308, neuron_input=0.0, self.Rm=1, self.tau_m * self.dt = 1.25\n",
      "spike_generator(): i=203, t=175.625, Vm[i-1]=0.0065015309948658045, neuron_input=0.0, self.Rm=1, self.tau_m * self.dt = 1.25\n",
      "spike_generator(): i=204, t=175.75, Vm[i-1]=0.006420261857429982, neuron_input=0.0, self.Rm=1, self.tau_m * self.dt = 1.25\n",
      "spike_generator(): i=205, t=175.875, Vm[i-1]=0.006340008584212107, neuron_input=0.0, self.Rm=1, self.tau_m * self.dt = 1.25\n",
      "spike_generator(): i=206, t=176.0, Vm[i-1]=0.0062607584769094555, neuron_input=0.0, self.Rm=1, self.tau_m * self.dt = 1.25\n",
      "spike_generator(): i=207, t=176.125, Vm[i-1]=0.006182498995948087, neuron_input=0.0, self.Rm=1, self.tau_m * self.dt = 1.25\n",
      "spike_generator(): i=208, t=176.25, Vm[i-1]=0.006105217758498736, neuron_input=0.0, self.Rm=1, self.tau_m * self.dt = 1.25\n",
      "spike_generator(): i=209, t=176.375, Vm[i-1]=0.0060289025365175015, neuron_input=0.0, self.Rm=1, self.tau_m * self.dt = 1.25\n",
      "spike_generator(): i=210, t=176.5, Vm[i-1]=0.005953541254811033, neuron_input=0.0, self.Rm=1, self.tau_m * self.dt = 1.25\n",
      "spike_generator(): i=211, t=176.625, Vm[i-1]=0.005879121989125895, neuron_input=0.0, self.Rm=1, self.tau_m * self.dt = 1.25\n",
      "spike_generator(): i=212, t=176.75, Vm[i-1]=0.005805632964261821, neuron_input=0.0, self.Rm=1, self.tau_m * self.dt = 1.25\n",
      "spike_generator(): i=213, t=176.875, Vm[i-1]=0.0057330625522085486, neuron_input=0.0, self.Rm=1, self.tau_m * self.dt = 1.25\n",
      "spike_generator(): i=214, t=177.0, Vm[i-1]=0.005661399270305942, neuron_input=0.0, self.Rm=1, self.tau_m * self.dt = 1.25\n",
      "spike_generator(): i=215, t=177.125, Vm[i-1]=0.005590631779427118, neuron_input=0.0, self.Rm=1, self.tau_m * self.dt = 1.25\n",
      "spike_generator(): i=216, t=177.25, Vm[i-1]=0.0055207488821842786, neuron_input=0.0, self.Rm=1, self.tau_m * self.dt = 1.25\n",
      "spike_generator(): i=217, t=177.375, Vm[i-1]=0.005451739521156975, neuron_input=0.0, self.Rm=1, self.tau_m * self.dt = 1.25\n",
      "spike_generator(): i=218, t=177.5, Vm[i-1]=0.005383592777142513, neuron_input=0.0, self.Rm=1, self.tau_m * self.dt = 1.25\n",
      "spike_generator(): i=219, t=177.625, Vm[i-1]=0.005316297867428232, neuron_input=0.0, self.Rm=1, self.tau_m * self.dt = 1.25\n",
      "spike_generator(): i=220, t=177.75, Vm[i-1]=0.005249844144085379, neuron_input=0.0, self.Rm=1, self.tau_m * self.dt = 1.25\n",
      "spike_generator(): i=221, t=177.875, Vm[i-1]=0.005184221092284311, neuron_input=0.0, self.Rm=1, self.tau_m * self.dt = 1.25\n",
      "spike_generator(): i=222, t=178.0, Vm[i-1]=0.005119418328630758, neuron_input=0.0, self.Rm=1, self.tau_m * self.dt = 1.25\n",
      "spike_generator(): i=223, t=178.125, Vm[i-1]=0.005055425599522873, neuron_input=0.0, self.Rm=1, self.tau_m * self.dt = 1.25\n",
      "spike_generator(): i=224, t=178.25, Vm[i-1]=0.0049922327795288365, neuron_input=0.0, self.Rm=1, self.tau_m * self.dt = 1.25\n",
      "spike_generator(): i=225, t=178.375, Vm[i-1]=0.004929829869784726, neuron_input=0.0, self.Rm=1, self.tau_m * self.dt = 1.25\n",
      "spike_generator(): i=226, t=178.5, Vm[i-1]=0.004868206996412417, neuron_input=0.0, self.Rm=1, self.tau_m * self.dt = 1.25\n",
      "spike_generator(): i=227, t=178.625, Vm[i-1]=0.004807354408957262, neuron_input=0.0, self.Rm=1, self.tau_m * self.dt = 1.25\n",
      "spike_generator(): i=228, t=178.75, Vm[i-1]=0.004747262478845296, neuron_input=0.0, self.Rm=1, self.tau_m * self.dt = 1.25\n",
      "spike_generator(): i=229, t=178.875, Vm[i-1]=0.00468792169785973, neuron_input=0.0, self.Rm=1, self.tau_m * self.dt = 1.25\n",
      "spike_generator(): i=230, t=179.0, Vm[i-1]=0.004629322676636484, neuron_input=0.0, self.Rm=1, self.tau_m * self.dt = 1.25\n",
      "spike_generator(): i=231, t=179.125, Vm[i-1]=0.004571456143178528, neuron_input=0.0, self.Rm=1, self.tau_m * self.dt = 1.25\n",
      "spike_generator(): i=232, t=179.25, Vm[i-1]=0.004514312941388796, neuron_input=0.0, self.Rm=1, self.tau_m * self.dt = 1.25\n",
      "spike_generator(): i=233, t=179.375, Vm[i-1]=0.004457884029621436, neuron_input=0.0, self.Rm=1, self.tau_m * self.dt = 1.25\n",
      "spike_generator(): i=234, t=179.5, Vm[i-1]=0.004402160479251168, neuron_input=0.0, self.Rm=1, self.tau_m * self.dt = 1.25\n",
      "spike_generator(): i=235, t=179.625, Vm[i-1]=0.004347133473260528, neuron_input=0.0, self.Rm=1, self.tau_m * self.dt = 1.25\n",
      "spike_generator(): i=236, t=179.75, Vm[i-1]=0.004292794304844772, neuron_input=0.0, self.Rm=1, self.tau_m * self.dt = 1.25\n",
      "spike_generator(): i=237, t=179.875, Vm[i-1]=0.004239134376034212, neuron_input=0.0, self.Rm=1, self.tau_m * self.dt = 1.25\n",
      "spike_generator(): i=238, t=180.0, Vm[i-1]=0.004186145196333784, neuron_input=0.0, self.Rm=1, self.tau_m * self.dt = 1.25\n",
      "spike_generator(): i=239, t=180.125, Vm[i-1]=0.004133818381379612, neuron_input=0.0, self.Rm=1, self.tau_m * self.dt = 1.25\n",
      "spike_generator(): i=240, t=180.25, Vm[i-1]=0.004082145651612367, neuron_input=0.0, self.Rm=1, self.tau_m * self.dt = 1.25\n",
      "spike_generator(): i=241, t=180.375, Vm[i-1]=0.004031118830967213, neuron_input=0.0, self.Rm=1, self.tau_m * self.dt = 1.25\n",
      "spike_generator(): i=242, t=180.5, Vm[i-1]=0.003980729845580123, neuron_input=0.0, self.Rm=1, self.tau_m * self.dt = 1.25\n",
      "spike_generator(): i=243, t=180.625, Vm[i-1]=0.003930970722510372, neuron_input=0.0, self.Rm=1, self.tau_m * self.dt = 1.25\n",
      "spike_generator(): i=244, t=180.75, Vm[i-1]=0.003881833588478992, neuron_input=0.0, self.Rm=1, self.tau_m * self.dt = 1.25\n",
      "spike_generator(): i=245, t=180.875, Vm[i-1]=0.0038333106686230045, neuron_input=0.0, self.Rm=1, self.tau_m * self.dt = 1.25\n",
      "spike_generator(): i=246, t=181.0, Vm[i-1]=0.003785394285265217, neuron_input=0.0, self.Rm=1, self.tau_m * self.dt = 1.25\n",
      "spike_generator(): i=247, t=181.125, Vm[i-1]=0.003738076856699402, neuron_input=0.0, self.Rm=1, self.tau_m * self.dt = 1.25\n",
      "spike_generator(): i=248, t=181.25, Vm[i-1]=0.003691350895990659, neuron_input=0.0, self.Rm=1, self.tau_m * self.dt = 1.25\n",
      "spike_generator(): i=249, t=181.375, Vm[i-1]=0.0036452090097907758, neuron_input=0.0, self.Rm=1, self.tau_m * self.dt = 1.25\n",
      "spike_generator(): i=250, t=181.5, Vm[i-1]=0.0035996438971683913, neuron_input=0.0, self.Rm=1, self.tau_m * self.dt = 1.25\n",
      "spike_generator(): i=251, t=181.625, Vm[i-1]=0.0035546483484537863, neuron_input=0.0, self.Rm=1, self.tau_m * self.dt = 1.25\n",
      "spike_generator(): i=252, t=181.75, Vm[i-1]=0.003510215244098114, neuron_input=0.0, self.Rm=1, self.tau_m * self.dt = 1.25\n",
      "spike_generator(): i=253, t=181.875, Vm[i-1]=0.0034663375535468875, neuron_input=0.0, self.Rm=1, self.tau_m * self.dt = 1.25\n",
      "spike_generator(): i=254, t=182.0, Vm[i-1]=0.0034230083341275515, neuron_input=0.0, self.Rm=1, self.tau_m * self.dt = 1.25\n",
      "spike_generator(): i=255, t=182.125, Vm[i-1]=0.003380220729950957, neuron_input=0.0, self.Rm=1, self.tau_m * self.dt = 1.25\n",
      "spike_generator(): i=256, t=182.25, Vm[i-1]=0.00333796797082657, neuron_input=0.0, self.Rm=1, self.tau_m * self.dt = 1.25\n",
      "spike_generator(): i=257, t=182.375, Vm[i-1]=0.003296243371191238, neuron_input=0.0, self.Rm=1, self.tau_m * self.dt = 1.25\n",
      "spike_generator(): i=258, t=182.5, Vm[i-1]=0.003255040329051347, neuron_input=0.0, self.Rm=1, self.tau_m * self.dt = 1.25\n",
      "spike_generator(): i=259, t=182.625, Vm[i-1]=0.0032143523249382054, neuron_input=0.0, self.Rm=1, self.tau_m * self.dt = 1.25\n",
      "spike_generator(): i=260, t=182.75, Vm[i-1]=0.0031741729208764778, neuron_input=0.0, self.Rm=1, self.tau_m * self.dt = 1.25\n",
      "spike_generator(): i=261, t=182.875, Vm[i-1]=0.003134495759365522, neuron_input=0.0, self.Rm=1, self.tau_m * self.dt = 1.25\n",
      "spike_generator(): i=262, t=183.0, Vm[i-1]=0.003095314562373453, neuron_input=0.0, self.Rm=1, self.tau_m * self.dt = 1.25\n",
      "spike_generator(): i=263, t=183.125, Vm[i-1]=0.003056623130343785, neuron_input=0.0, self.Rm=1, self.tau_m * self.dt = 1.25\n",
      "spike_generator(): i=264, t=183.25, Vm[i-1]=0.0030184153412144876, neuron_input=0.0, self.Rm=1, self.tau_m * self.dt = 1.25\n",
      "spike_generator(): i=265, t=183.375, Vm[i-1]=0.0029806851494493065, neuron_input=0.0, self.Rm=1, self.tau_m * self.dt = 1.25\n",
      "spike_generator(): i=266, t=183.5, Vm[i-1]=0.0029434265850811904, neuron_input=0.0, self.Rm=1, self.tau_m * self.dt = 1.25\n",
      "spike_generator(): i=267, t=183.625, Vm[i-1]=0.0029066337527676755, neuron_input=0.0, self.Rm=1, self.tau_m * self.dt = 1.25\n",
      "spike_generator(): i=268, t=183.75, Vm[i-1]=0.0028703008308580795, neuron_input=0.0, self.Rm=1, self.tau_m * self.dt = 1.25\n",
      "spike_generator(): i=269, t=183.875, Vm[i-1]=0.0028344220704723533, neuron_input=0.0, self.Rm=1, self.tau_m * self.dt = 1.25\n",
      "spike_generator(): i=270, t=184.0, Vm[i-1]=0.002798991794591449, neuron_input=0.0, self.Rm=1, self.tau_m * self.dt = 1.25\n",
      "spike_generator(): i=271, t=184.125, Vm[i-1]=0.0027640043971590557, neuron_input=0.0, self.Rm=1, self.tau_m * self.dt = 1.25\n",
      "spike_generator(): i=272, t=184.25, Vm[i-1]=0.0027294543421945675, neuron_input=0.0, self.Rm=1, self.tau_m * self.dt = 1.25\n",
      "spike_generator(): i=273, t=184.375, Vm[i-1]=0.0026953361629171355, neuron_input=0.0, self.Rm=1, self.tau_m * self.dt = 1.25\n",
      "spike_generator(): i=274, t=184.5, Vm[i-1]=0.002661644460880671, neuron_input=0.0, self.Rm=1, self.tau_m * self.dt = 1.25\n",
      "spike_generator(): i=275, t=184.625, Vm[i-1]=0.0026283739051196626, neuron_input=0.0, self.Rm=1, self.tau_m * self.dt = 1.25\n",
      "spike_generator(): i=276, t=184.75, Vm[i-1]=0.002595519231305667, neuron_input=0.0, self.Rm=1, self.tau_m * self.dt = 1.25\n",
      "spike_generator(): i=277, t=184.875, Vm[i-1]=0.0025630752409143464, neuron_input=0.0, self.Rm=1, self.tau_m * self.dt = 1.25\n",
      "spike_generator(): i=278, t=185.0, Vm[i-1]=0.002531036800402917, neuron_input=0.0, self.Rm=1, self.tau_m * self.dt = 1.25\n",
      "spike_generator(): i=279, t=185.125, Vm[i-1]=0.0024993988403978805, neuron_input=0.0, self.Rm=1, self.tau_m * self.dt = 1.25\n",
      "spike_generator(): i=280, t=185.25, Vm[i-1]=0.002468156354892907, neuron_input=0.0, self.Rm=1, self.tau_m * self.dt = 1.25\n",
      "spike_generator(): i=281, t=185.375, Vm[i-1]=0.002437304400456746, neuron_input=0.0, self.Rm=1, self.tau_m * self.dt = 1.25\n",
      "spike_generator(): i=282, t=185.5, Vm[i-1]=0.0024068380954510365, neuron_input=0.0, self.Rm=1, self.tau_m * self.dt = 1.25\n",
      "spike_generator(): i=283, t=185.625, Vm[i-1]=0.0023767526192578986, neuron_input=0.0, self.Rm=1, self.tau_m * self.dt = 1.25\n",
      "spike_generator(): i=284, t=185.75, Vm[i-1]=0.002347043211517175, neuron_input=0.0, self.Rm=1, self.tau_m * self.dt = 1.25\n",
      "spike_generator(): i=285, t=185.875, Vm[i-1]=0.00231770517137321, neuron_input=0.0, self.Rm=1, self.tau_m * self.dt = 1.25\n",
      "spike_generator(): i=286, t=186.0, Vm[i-1]=0.002288733856731045, neuron_input=0.0, self.Rm=1, self.tau_m * self.dt = 1.25\n",
      "spike_generator(): i=287, t=186.125, Vm[i-1]=0.0022601246835219067, neuron_input=0.0, self.Rm=1, self.tau_m * self.dt = 1.25\n",
      "spike_generator(): i=288, t=186.25, Vm[i-1]=0.0022318731249778827, neuron_input=0.0, self.Rm=1, self.tau_m * self.dt = 1.25\n",
      "spike_generator(): i=289, t=186.375, Vm[i-1]=0.0022039747109156593, neuron_input=0.0, self.Rm=1, self.tau_m * self.dt = 1.25\n",
      "spike_generator(): i=290, t=186.5, Vm[i-1]=0.0021764250270292136, neuron_input=0.0, self.Rm=1, self.tau_m * self.dt = 1.25\n",
      "spike_generator(): i=291, t=186.625, Vm[i-1]=0.0021492197141913484, neuron_input=0.0, self.Rm=1, self.tau_m * self.dt = 1.25\n",
      "spike_generator(): i=292, t=186.75, Vm[i-1]=0.0021223544677639564, neuron_input=0.0, self.Rm=1, self.tau_m * self.dt = 1.25\n",
      "spike_generator(): i=293, t=186.875, Vm[i-1]=0.002095825036916907, neuron_input=0.0, self.Rm=1, self.tau_m * self.dt = 1.25\n",
      "spike_generator(): i=294, t=187.0, Vm[i-1]=0.0020696272239554454, neuron_input=0.0, self.Rm=1, self.tau_m * self.dt = 1.25\n",
      "spike_generator(): i=295, t=187.125, Vm[i-1]=0.0020437568836560024, neuron_input=0.0, self.Rm=1, self.tau_m * self.dt = 1.25\n",
      "spike_generator(): i=296, t=187.25, Vm[i-1]=0.0020182099226103024, neuron_input=0.0, self.Rm=1, self.tau_m * self.dt = 1.25\n",
      "spike_generator(): i=297, t=187.375, Vm[i-1]=0.0019929822985776738, neuron_input=0.0, self.Rm=1, self.tau_m * self.dt = 1.25\n",
      "spike_generator(): i=298, t=187.5, Vm[i-1]=0.0019680700198454527, neuron_input=0.0, self.Rm=1, self.tau_m * self.dt = 1.25\n",
      "spike_generator(): i=299, t=187.625, Vm[i-1]=0.0019434691445973846, neuron_input=0.0, self.Rm=1, self.tau_m * self.dt = 1.25\n",
      "spike_generator(): i=300, t=187.75, Vm[i-1]=0.0019191757802899173, neuron_input=0.0, self.Rm=1, self.tau_m * self.dt = 1.25\n",
      "spike_generator(): i=301, t=187.875, Vm[i-1]=0.0018951860830362932, neuron_input=0.0, self.Rm=1, self.tau_m * self.dt = 1.25\n",
      "spike_generator(): i=302, t=188.0, Vm[i-1]=0.0018714962569983395, neuron_input=0.0, self.Rm=1, self.tau_m * self.dt = 1.25\n",
      "spike_generator(): i=303, t=188.125, Vm[i-1]=0.0018481025537858604, neuron_input=0.0, self.Rm=1, self.tau_m * self.dt = 1.25\n",
      "spike_generator(): i=304, t=188.25, Vm[i-1]=0.001825001271863537, neuron_input=0.0, self.Rm=1, self.tau_m * self.dt = 1.25\n",
      "spike_generator(): i=305, t=188.375, Vm[i-1]=0.0018021887559652428, neuron_input=0.0, self.Rm=1, self.tau_m * self.dt = 1.25\n",
      "spike_generator(): i=306, t=188.5, Vm[i-1]=0.0017796613965156774, neuron_input=0.0, self.Rm=1, self.tau_m * self.dt = 1.25\n",
      "spike_generator(): i=307, t=188.625, Vm[i-1]=0.0017574156290592314, neuron_input=0.0, self.Rm=1, self.tau_m * self.dt = 1.25\n",
      "spike_generator(): i=308, t=188.75, Vm[i-1]=0.001735447933695991, neuron_input=0.0, self.Rm=1, self.tau_m * self.dt = 1.25\n",
      "spike_generator(): i=309, t=188.875, Vm[i-1]=0.0017137548345247911, neuron_input=0.0, self.Rm=1, self.tau_m * self.dt = 1.25\n",
      "spike_generator(): i=310, t=189.0, Vm[i-1]=0.0016923328990932312, neuron_input=0.0, self.Rm=1, self.tau_m * self.dt = 1.25\n",
      "spike_generator(): i=311, t=189.125, Vm[i-1]=0.0016711787378545658, neuron_input=0.0, self.Rm=1, self.tau_m * self.dt = 1.25\n",
      "spike_generator(): i=312, t=189.25, Vm[i-1]=0.0016502890036313837, neuron_input=0.0, self.Rm=1, self.tau_m * self.dt = 1.25\n",
      "spike_generator(): i=313, t=189.375, Vm[i-1]=0.0016296603910859915, neuron_input=0.0, self.Rm=1, self.tau_m * self.dt = 1.25\n",
      "spike_generator(): i=314, t=189.5, Vm[i-1]=0.0016092896361974167, neuron_input=0.0, self.Rm=1, self.tau_m * self.dt = 1.25\n",
      "spike_generator(): i=315, t=189.625, Vm[i-1]=0.0015891735157449488, neuron_input=0.0, self.Rm=1, self.tau_m * self.dt = 1.25\n",
      "spike_generator(): i=316, t=189.75, Vm[i-1]=0.001569308846798137, neuron_input=0.0, self.Rm=1, self.tau_m * self.dt = 1.25\n",
      "spike_generator(): i=317, t=189.875, Vm[i-1]=0.0015496924862131603, neuron_input=0.0, self.Rm=1, self.tau_m * self.dt = 1.25\n",
      "spike_generator(): i=318, t=190.0, Vm[i-1]=0.0015303213301354958, neuron_input=0.0, self.Rm=1, self.tau_m * self.dt = 1.25\n",
      "spike_generator(): i=319, t=190.125, Vm[i-1]=0.0015111923135088022, neuron_input=0.0, self.Rm=1, self.tau_m * self.dt = 1.25\n",
      "spike_generator(): i=320, t=190.25, Vm[i-1]=0.001492302409589942, neuron_input=1.0, self.Rm=1, self.tau_m * self.dt = 1.25\n",
      "spike_generator(): i=321, t=190.375, Vm[i-1]=0.013973648629470068, neuron_input=0.0, self.Rm=1, self.tau_m * self.dt = 1.25\n",
      "spike_generator(): i=322, t=190.5, Vm[i-1]=0.013798978021601693, neuron_input=0.0, self.Rm=1, self.tau_m * self.dt = 1.25\n",
      "spike_generator(): i=323, t=190.625, Vm[i-1]=0.013626490796331672, neuron_input=0.0, self.Rm=1, self.tau_m * self.dt = 1.25\n",
      "spike_generator(): i=324, t=190.75, Vm[i-1]=0.013456159661377526, neuron_input=0.0, self.Rm=1, self.tau_m * self.dt = 1.25\n",
      "spike_generator(): i=325, t=190.875, Vm[i-1]=0.013287957665610308, neuron_input=0.0, self.Rm=1, self.tau_m * self.dt = 1.25\n",
      "spike_generator(): i=326, t=191.0, Vm[i-1]=0.013121858194790179, neuron_input=0.0, self.Rm=1, self.tau_m * self.dt = 1.25\n",
      "spike_generator(): i=327, t=191.125, Vm[i-1]=0.012957834967355301, neuron_input=0.0, self.Rm=1, self.tau_m * self.dt = 1.25\n",
      "spike_generator(): i=328, t=191.25, Vm[i-1]=0.01279586203026336, neuron_input=0.0, self.Rm=1, self.tau_m * self.dt = 1.25\n",
      "spike_generator(): i=329, t=191.375, Vm[i-1]=0.012635913754885068, neuron_input=0.0, self.Rm=1, self.tau_m * self.dt = 1.25\n",
      "spike_generator(): i=330, t=191.5, Vm[i-1]=0.012477964832949004, neuron_input=0.0, self.Rm=1, self.tau_m * self.dt = 1.25\n",
      "spike_generator(): i=331, t=191.625, Vm[i-1]=0.012321990272537142, neuron_input=0.0, self.Rm=1, self.tau_m * self.dt = 1.25\n",
      "spike_generator(): i=332, t=191.75, Vm[i-1]=0.012167965394130427, neuron_input=0.0, self.Rm=1, self.tau_m * self.dt = 1.25\n",
      "spike_generator(): i=333, t=191.875, Vm[i-1]=0.012015865826703796, neuron_input=0.0, self.Rm=1, self.tau_m * self.dt = 1.25\n",
      "spike_generator(): i=334, t=192.0, Vm[i-1]=0.01186566750387, neuron_input=0.0, self.Rm=1, self.tau_m * self.dt = 1.25\n",
      "spike_generator(): i=335, t=192.125, Vm[i-1]=0.011717346660071624, neuron_input=0.0, self.Rm=1, self.tau_m * self.dt = 1.25\n",
      "spike_generator(): i=336, t=192.25, Vm[i-1]=0.011570879826820729, neuron_input=0.0, self.Rm=1, self.tau_m * self.dt = 1.25\n",
      "spike_generator(): i=337, t=192.375, Vm[i-1]=0.01142624382898547, neuron_input=0.0, self.Rm=1, self.tau_m * self.dt = 1.25\n",
      "spike_generator(): i=338, t=192.5, Vm[i-1]=0.011283415781123152, neuron_input=0.0, self.Rm=1, self.tau_m * self.dt = 1.25\n",
      "spike_generator(): i=339, t=192.625, Vm[i-1]=0.011142373083859113, neuron_input=0.0, self.Rm=1, self.tau_m * self.dt = 1.25\n",
      "spike_generator(): i=340, t=192.75, Vm[i-1]=0.011003093420310873, neuron_input=0.0, self.Rm=1, self.tau_m * self.dt = 1.25\n",
      "spike_generator(): i=341, t=192.875, Vm[i-1]=0.010865554752556987, neuron_input=0.0, self.Rm=1, self.tau_m * self.dt = 1.25\n",
      "spike_generator(): i=342, t=193.0, Vm[i-1]=0.010729735318150024, neuron_input=0.0, self.Rm=1, self.tau_m * self.dt = 1.25\n",
      "spike_generator(): i=343, t=193.125, Vm[i-1]=0.01059561362667315, neuron_input=0.0, self.Rm=1, self.tau_m * self.dt = 1.25\n",
      "spike_generator(): i=344, t=193.25, Vm[i-1]=0.010463168456339735, neuron_input=0.0, self.Rm=1, self.tau_m * self.dt = 1.25\n",
      "spike_generator(): i=345, t=193.375, Vm[i-1]=0.010332378850635489, neuron_input=0.0, self.Rm=1, self.tau_m * self.dt = 1.25\n",
      "spike_generator(): i=346, t=193.5, Vm[i-1]=0.010203224115002546, neuron_input=0.0, self.Rm=1, self.tau_m * self.dt = 1.25\n",
      "spike_generator(): i=347, t=193.625, Vm[i-1]=0.010075683813565014, neuron_input=0.0, self.Rm=1, self.tau_m * self.dt = 1.25\n",
      "spike_generator(): i=348, t=193.75, Vm[i-1]=0.009949737765895451, neuron_input=0.0, self.Rm=1, self.tau_m * self.dt = 1.25\n",
      "spike_generator(): i=349, t=193.875, Vm[i-1]=0.009825366043821759, neuron_input=0.0, self.Rm=1, self.tau_m * self.dt = 1.25\n",
      "spike_generator(): i=350, t=194.0, Vm[i-1]=0.009702548968273987, neuron_input=0.0, self.Rm=1, self.tau_m * self.dt = 1.25\n",
      "spike_generator(): i=351, t=194.125, Vm[i-1]=0.009581267106170563, neuron_input=0.0, self.Rm=1, self.tau_m * self.dt = 1.25\n",
      "spike_generator(): i=352, t=194.25, Vm[i-1]=0.009461501267343431, neuron_input=0.0, self.Rm=1, self.tau_m * self.dt = 1.25\n",
      "spike_generator(): i=353, t=194.375, Vm[i-1]=0.009343232501501639, neuron_input=0.0, self.Rm=1, self.tau_m * self.dt = 1.25\n",
      "spike_generator(): i=354, t=194.5, Vm[i-1]=0.009226442095232868, neuron_input=0.0, self.Rm=1, self.tau_m * self.dt = 1.25\n",
      "spike_generator(): i=355, t=194.625, Vm[i-1]=0.009111111569042457, neuron_input=0.0, self.Rm=1, self.tau_m * self.dt = 1.25\n",
      "spike_generator(): i=356, t=194.75, Vm[i-1]=0.008997222674429426, neuron_input=0.0, self.Rm=1, self.tau_m * self.dt = 1.25\n",
      "spike_generator(): i=357, t=194.875, Vm[i-1]=0.008884757390999058, neuron_input=0.0, self.Rm=1, self.tau_m * self.dt = 1.25\n",
      "spike_generator(): i=358, t=195.0, Vm[i-1]=0.00877369792361157, neuron_input=0.0, self.Rm=1, self.tau_m * self.dt = 1.25\n",
      "spike_generator(): i=359, t=195.125, Vm[i-1]=0.008664026699566426, neuron_input=0.0, self.Rm=1, self.tau_m * self.dt = 1.25\n",
      "spike_generator(): i=360, t=195.25, Vm[i-1]=0.008555726365821845, neuron_input=0.0, self.Rm=1, self.tau_m * self.dt = 1.25\n",
      "spike_generator(): i=361, t=195.375, Vm[i-1]=0.008448779786249071, neuron_input=0.0, self.Rm=1, self.tau_m * self.dt = 1.25\n",
      "spike_generator(): i=362, t=195.5, Vm[i-1]=0.008343170038920957, neuron_input=0.0, self.Rm=1, self.tau_m * self.dt = 1.25\n",
      "spike_generator(): i=363, t=195.625, Vm[i-1]=0.008238880413434445, neuron_input=0.0, self.Rm=1, self.tau_m * self.dt = 1.25\n",
      "spike_generator(): i=364, t=195.75, Vm[i-1]=0.008135894408266514, neuron_input=0.0, self.Rm=1, self.tau_m * self.dt = 1.25\n",
      "spike_generator(): i=365, t=195.875, Vm[i-1]=0.008034195728163182, neuron_input=0.0, self.Rm=1, self.tau_m * self.dt = 1.25\n",
      "spike_generator(): i=366, t=196.0, Vm[i-1]=0.007933768281561141, neuron_input=0.0, self.Rm=1, self.tau_m * self.dt = 1.25\n",
      "spike_generator(): i=367, t=196.125, Vm[i-1]=0.007834596178041628, neuron_input=0.0, self.Rm=1, self.tau_m * self.dt = 1.25\n",
      "spike_generator(): i=368, t=196.25, Vm[i-1]=0.007736663725816107, neuron_input=0.0, self.Rm=1, self.tau_m * self.dt = 1.25\n",
      "spike_generator(): i=369, t=196.375, Vm[i-1]=0.007639955429243406, neuron_input=0.0, self.Rm=1, self.tau_m * self.dt = 1.25\n",
      "spike_generator(): i=370, t=196.5, Vm[i-1]=0.007544455986377863, neuron_input=0.0, self.Rm=1, self.tau_m * self.dt = 1.25\n",
      "spike_generator(): i=371, t=196.625, Vm[i-1]=0.00745015028654814, neuron_input=0.0, self.Rm=1, self.tau_m * self.dt = 1.25\n",
      "spike_generator(): i=372, t=196.75, Vm[i-1]=0.007357023407966288, neuron_input=0.0, self.Rm=1, self.tau_m * self.dt = 1.25\n",
      "spike_generator(): i=373, t=196.875, Vm[i-1]=0.007265060615366709, neuron_input=0.0, self.Rm=1, self.tau_m * self.dt = 1.25\n",
      "spike_generator(): i=374, t=197.0, Vm[i-1]=0.007174247357674625, neuron_input=0.0, self.Rm=1, self.tau_m * self.dt = 1.25\n",
      "spike_generator(): i=375, t=197.125, Vm[i-1]=0.007084569265703692, neuron_input=0.0, self.Rm=1, self.tau_m * self.dt = 1.25\n",
      "spike_generator(): i=376, t=197.25, Vm[i-1]=0.006996012149882396, neuron_input=0.0, self.Rm=1, self.tau_m * self.dt = 1.25\n",
      "spike_generator(): i=377, t=197.375, Vm[i-1]=0.006908561998008866, neuron_input=0.0, self.Rm=1, self.tau_m * self.dt = 1.25\n",
      "spike_generator(): i=378, t=197.5, Vm[i-1]=0.006822204973033755, neuron_input=0.0, self.Rm=1, self.tau_m * self.dt = 1.25\n",
      "spike_generator(): i=379, t=197.625, Vm[i-1]=0.006736927410870833, neuron_input=0.0, self.Rm=1, self.tau_m * self.dt = 1.25\n",
      "spike_generator(): i=380, t=197.75, Vm[i-1]=0.006652715818234948, neuron_input=0.0, self.Rm=1, self.tau_m * self.dt = 1.25\n",
      "spike_generator(): i=381, t=197.875, Vm[i-1]=0.006569556870507011, neuron_input=0.0, self.Rm=1, self.tau_m * self.dt = 1.25\n",
      "spike_generator(): i=382, t=198.0, Vm[i-1]=0.006487437409625673, neuron_input=0.0, self.Rm=1, self.tau_m * self.dt = 1.25\n",
      "spike_generator(): i=383, t=198.125, Vm[i-1]=0.006406344442005352, neuron_input=0.0, self.Rm=1, self.tau_m * self.dt = 1.25\n",
      "spike_generator(): i=384, t=198.25, Vm[i-1]=0.006326265136480285, neuron_input=0.0, self.Rm=1, self.tau_m * self.dt = 1.25\n",
      "spike_generator(): i=385, t=198.375, Vm[i-1]=0.006247186822274281, neuron_input=0.0, self.Rm=1, self.tau_m * self.dt = 1.25\n",
      "spike_generator(): i=386, t=198.5, Vm[i-1]=0.006169096986995852, neuron_input=0.0, self.Rm=1, self.tau_m * self.dt = 1.25\n",
      "spike_generator(): i=387, t=198.625, Vm[i-1]=0.006091983274658404, neuron_input=0.0, self.Rm=1, self.tau_m * self.dt = 1.25\n",
      "spike_generator(): i=388, t=198.75, Vm[i-1]=0.0060158334837251744, neuron_input=0.0, self.Rm=1, self.tau_m * self.dt = 1.25\n",
      "spike_generator(): i=389, t=198.875, Vm[i-1]=0.00594063556517861, neuron_input=0.0, self.Rm=1, self.tau_m * self.dt = 1.25\n",
      "spike_generator(): i=390, t=199.0, Vm[i-1]=0.005866377620613878, neuron_input=0.0, self.Rm=1, self.tau_m * self.dt = 1.25\n",
      "spike_generator(): i=391, t=199.125, Vm[i-1]=0.0057930479003562045, neuron_input=0.0, self.Rm=1, self.tau_m * self.dt = 1.25\n",
      "spike_generator(): i=392, t=199.25, Vm[i-1]=0.005720634801601752, neuron_input=0.0, self.Rm=1, self.tau_m * self.dt = 1.25\n",
      "spike_generator(): i=393, t=199.375, Vm[i-1]=0.00564912686658173, neuron_input=0.0, self.Rm=1, self.tau_m * self.dt = 1.25\n",
      "spike_generator(): i=394, t=199.5, Vm[i-1]=0.005578512780749458, neuron_input=0.0, self.Rm=1, self.tau_m * self.dt = 1.25\n",
      "spike_generator(): i=395, t=199.625, Vm[i-1]=0.00550878137099009, neuron_input=0.0, self.Rm=1, self.tau_m * self.dt = 1.25\n",
      "spike_generator(): i=396, t=199.75, Vm[i-1]=0.005439921603852714, neuron_input=0.0, self.Rm=1, self.tau_m * self.dt = 1.25\n",
      "spike_generator(): i=397, t=199.875, Vm[i-1]=0.0053719225838045545, neuron_input=0.0, self.Rm=1, self.tau_m * self.dt = 1.25\n",
      "spike_generator(): i=398, t=200.0, Vm[i-1]=0.005304773551506998, neuron_input=0.0, self.Rm=1, self.tau_m * self.dt = 1.25\n",
      "spike_generator(): i=399, t=200.125, Vm[i-1]=0.00523846388211316, neuron_input=0.0, self.Rm=1, self.tau_m * self.dt = 1.25\n",
      "spike_generator(): i=400, t=200.25, Vm[i-1]=0.005172983083586745, neuron_input=0.0, self.Rm=1, self.tau_m * self.dt = 1.25\n",
      "Neuron.spike_generator.exit_state(Vm=0.005108320795041911 at iteration i=400, time=200.375)\n"
     ]
    }
   ],
   "source": [
    "neuron2_input = neuron_output\n",
    "neuron2_time = np.zeros(len(neuron_time))\n",
    "neuron2_Vm = np.zeros(len(neuron_Vm))\n",
    "neuron2_output = np.zeros(len(neuron_output))\n",
    "#for time_step in range(20):   #(len(neuron_time)):\n",
    "#print (time_step)\n",
    "t, v, o = neuron.spike_generator(neuron2_input, debug=True)   #[time_step], duration=0.25)\n",
    "neuron2_time = np.append(neuron2_time,t)\n",
    "neuron2_Vm = np.append(neuron2_Vm,v)\n",
    "neuron2_output = np.append(neuron2_output, o)"
   ]
  },
  {
   "cell_type": "code",
   "execution_count": 211,
   "metadata": {},
   "outputs": [
    {
     "data": {
      "image/png": "[encoded data removed]",
      "text/plain": [
       "<matplotlib.figure.Figure at 0x11509c5c0>"
      ]
     },
     "metadata": {},
     "output_type": "display_data"
    },
    {
     "data": {
      "image/png": "[encoded data removed]",
      "text/plain": [
       "<matplotlib.figure.Figure at 0x11509c080>"
      ]
     },
     "metadata": {},
     "output_type": "display_data"
    },
    {
     "data": {
      "image/png": "[encoded data removed]",
      "text/plain": [
       "<matplotlib.figure.Figure at 0x1151686a0>"
      ]
     },
     "metadata": {},
     "output_type": "display_data"
    }
   ],
   "source": [
    "plot_spikes(neuron_time, neuron_output, neuron2.type, neuron_id = \"0\")\n",
    "plot_membrane_potential(neuron2_time, neuron2_Vm, neuron2.type, neuron_id = \"0\")\n",
    "plot_spikes(neuron2_time, neuron2_output, neuron2.type, neuron_id = \"0\")"
   ]
  },
  {
   "cell_type": "code",
   "execution_count": null,
   "metadata": {
    "collapsed": true
   },
   "outputs": [],
   "source": []
  }
 ],
 "metadata": {
  "kernelspec": {
   "display_name": "Python 3",
   "language": "python",
   "name": "python3"
  },
  "language_info": {
   "codemirror_mode": {
    "name": "ipython",
    "version": 3
   },
   "file_extension": ".py",
   "mimetype": "text/x-python",
   "name": "python",
   "nbconvert_exporter": "python",
   "pygments_lexer": "ipython3",
   "version": "3.6.1"
  }
 },
 "nbformat": 4,
 "nbformat_minor": 2
}
